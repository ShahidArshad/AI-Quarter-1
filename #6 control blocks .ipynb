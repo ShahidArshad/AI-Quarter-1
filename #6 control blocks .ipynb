{
 "cells": [
  {
   "cell_type": "code",
   "execution_count": 34,
   "id": "8beb8918",
   "metadata": {},
   "outputs": [
    {
     "data": {
      "text/plain": [
       "True"
      ]
     },
     "execution_count": 34,
     "metadata": {},
     "output_type": "execute_result"
    }
   ],
   "source": [
    "5==5"
   ]
  },
  {
   "cell_type": "code",
   "execution_count": 35,
   "id": "47a83817",
   "metadata": {},
   "outputs": [
    {
     "name": "stdout",
     "output_type": "stream",
     "text": [
      "humanity\n"
     ]
    }
   ],
   "source": [
    "if True:\n",
    "    print('humanity')"
   ]
  },
  {
   "cell_type": "code",
   "execution_count": 1,
   "id": "856c9fe8",
   "metadata": {},
   "outputs": [
    {
     "ename": "SyntaxError",
     "evalue": "invalid syntax (<ipython-input-1-86ad8fe1ce07>, line 3)",
     "output_type": "error",
     "traceback": [
      "\u001b[1;36m  File \u001b[1;32m\"<ipython-input-1-86ad8fe1ce07>\"\u001b[1;36m, line \u001b[1;32m3\u001b[0m\n\u001b[1;33m    if 5<=5\u001b[0m\n\u001b[1;37m           ^\u001b[0m\n\u001b[1;31mSyntaxError\u001b[0m\u001b[1;31m:\u001b[0m invalid syntax\n"
     ]
    }
   ],
   "source": [
    "while True:\n",
    "    print('humanity')\n",
    "    if 5<=5\n",
    "    break"
   ]
  },
  {
   "cell_type": "code",
   "execution_count": 4,
   "id": "6c8a9249",
   "metadata": {},
   "outputs": [
    {
     "name": "stdout",
     "output_type": "stream",
     "text": [
      "humanity 0\n",
      "humanity 1\n",
      "humanity 2\n",
      "humanity 3\n",
      "humanity 4\n",
      "humanity 5\n"
     ]
    }
   ],
   "source": [
    "a=0\n",
    "while a<=5:\n",
    "    print('humanity',a)\n",
    "    a +=1"
   ]
  },
  {
   "cell_type": "code",
   "execution_count": 3,
   "id": "09b4cafd",
   "metadata": {},
   "outputs": [],
   "source": [
    "a=5\n",
    "while a >=10:\n",
    "    print('humanity',a)\n",
    "    a +=1"
   ]
  },
  {
   "cell_type": "code",
   "execution_count": 4,
   "id": "4eccf327",
   "metadata": {},
   "outputs": [
    {
     "name": "stdout",
     "output_type": "stream",
     "text": [
      "humanity\n",
      "humanity\n",
      "humanity\n",
      "humanity\n",
      "humanity\n"
     ]
    }
   ],
   "source": [
    "a=0\n",
    "while a <=1000000:\n",
    "    if a==5:\n",
    "        break\n",
    "    print('humanity')\n",
    "    a +=1"
   ]
  },
  {
   "cell_type": "code",
   "execution_count": 6,
   "id": "31b0c1bf",
   "metadata": {},
   "outputs": [],
   "source": [
    "a=10\n",
    "while a <=0:\n",
    "    print('humanity',a)\n",
    "    a -=1"
   ]
  },
  {
   "cell_type": "code",
   "execution_count": 7,
   "id": "3443aaa1",
   "metadata": {},
   "outputs": [
    {
     "data": {
      "text/plain": [
       "['A',\n",
       " 'B',\n",
       " 'C',\n",
       " 'D',\n",
       " 'E',\n",
       " 'F',\n",
       " 'G',\n",
       " 'H',\n",
       " 'I',\n",
       " 'J',\n",
       " 'K',\n",
       " 'L',\n",
       " 'M',\n",
       " 'N',\n",
       " 'O',\n",
       " 'P',\n",
       " 'Q',\n",
       " 'R',\n",
       " 'S',\n",
       " 'T',\n",
       " 'U',\n",
       " 'V',\n",
       " 'W',\n",
       " 'X',\n",
       " 'Y',\n",
       " 'Z']"
      ]
     },
     "execution_count": 7,
     "metadata": {},
     "output_type": "execute_result"
    }
   ],
   "source": [
    "users= [chr(i)for i in range(65,91)]\n",
    "users"
   ]
  },
  {
   "cell_type": "code",
   "execution_count": 8,
   "id": "c4c6a10d",
   "metadata": {},
   "outputs": [
    {
     "name": "stdout",
     "output_type": "stream",
     "text": [
      "A\n"
     ]
    }
   ],
   "source": [
    "print(chr(65))"
   ]
  },
  {
   "cell_type": "code",
   "execution_count": 9,
   "id": "3688f454",
   "metadata": {},
   "outputs": [
    {
     "name": "stdout",
     "output_type": "stream",
     "text": [
      "65 A\n",
      "66 B\n",
      "67 C\n",
      "68 D\n",
      "69 E\n",
      "70 F\n",
      "71 G\n",
      "72 H\n",
      "73 I\n",
      "74 J\n",
      "75 K\n",
      "76 L\n",
      "77 M\n",
      "78 N\n",
      "79 O\n",
      "80 P\n",
      "81 Q\n",
      "82 R\n",
      "83 S\n",
      "84 T\n",
      "85 U\n",
      "86 V\n",
      "87 W\n",
      "88 X\n",
      "89 Y\n",
      "90 Z\n"
     ]
    }
   ],
   "source": [
    "code =65\n",
    "while code<=90:\n",
    "    print(code,chr(code))\n",
    "    code +=1\n",
    "    #ascii code"
   ]
  },
  {
   "cell_type": "code",
   "execution_count": 2,
   "id": "e52ada0b",
   "metadata": {},
   "outputs": [
    {
     "name": "stdout",
     "output_type": "stream",
     "text": [
      "# 100\n",
      "# 99\n",
      "# 98\n",
      "# 97\n",
      "# 96\n",
      "# 95\n",
      "# 94\n",
      "# 93\n",
      "# 92\n",
      "# 91\n",
      "# 90\n"
     ]
    }
   ],
   "source": [
    "code =100\n",
    "while code>=90:\n",
    "    print('#',code)\n",
    "    code -=1"
   ]
  },
  {
   "cell_type": "code",
   "execution_count": 10,
   "id": "e811a5cc",
   "metadata": {},
   "outputs": [],
   "source": [
    "users=['A','B','C','D','E','F','G','H','I','J','K','L','M','N','O','P','Q','R','S','T','U','V','W','X','Y','Z']\n"
   ]
  },
  {
   "cell_type": "code",
   "execution_count": 11,
   "id": "b71a2631",
   "metadata": {},
   "outputs": [
    {
     "name": "stdout",
     "output_type": "stream",
     "text": [
      "A 0\n",
      "B 1\n",
      "C 2\n",
      "D 3\n",
      "E 4\n",
      "F 5\n",
      "G 6\n",
      "H 7\n",
      "I 8\n",
      "J 9\n",
      "K 10\n",
      "L 11\n",
      "M 12\n",
      "N 13\n",
      "O 14\n",
      "P 15\n",
      "Q 16\n",
      "R 17\n",
      "S 18\n",
      "T 19\n",
      "U 20\n",
      "V 21\n",
      "W 22\n",
      "X 23\n",
      "Y 24\n",
      "Z 25\n"
     ]
    }
   ],
   "source": [
    "users=['A','B','C','D','E','F','G','H','I','J','K','L','M','N','O','P','Q','R','S','T','U','V','W','X','Y','Z']\n",
    "a =0\n",
    "while a <len(users):\n",
    "    print(users[a],a)\n",
    "   \n",
    "    a +=1"
   ]
  },
  {
   "cell_type": "code",
   "execution_count": 12,
   "id": "dca99538",
   "metadata": {},
   "outputs": [
    {
     "name": "stdout",
     "output_type": "stream",
     "text": [
      "A 0\n",
      "B 1\n",
      "C 2\n",
      "D 3\n",
      "E 4\n",
      "F 5\n"
     ]
    }
   ],
   "source": [
    "alpha=['A','B','C','D','E','F']\n",
    "a=0\n",
    "\n",
    "while a<len(alpha):\n",
    "        print(alpha[a],a)\n",
    "        \n",
    "        a +=1"
   ]
  },
  {
   "cell_type": "code",
   "execution_count": 13,
   "id": "c6b55f8f",
   "metadata": {},
   "outputs": [
    {
     "name": "stdout",
     "output_type": "stream",
     "text": [
      "enter user idD\n",
      "A 0\n",
      "B 1\n",
      "C 2\n",
      "D 3\n"
     ]
    }
   ],
   "source": [
    "alpha=['A','B','C','D','E','F']\n",
    "a=0\n",
    "search=input('enter user id')\n",
    "while a<len(alpha):\n",
    "        print(alpha[a],a)\n",
    "        if search== users[a]:\n",
    "            break\n",
    "        a +=1"
   ]
  },
  {
   "cell_type": "code",
   "execution_count": 14,
   "id": "17e5f9ad",
   "metadata": {},
   "outputs": [
    {
     "name": "stdout",
     "output_type": "stream",
     "text": [
      "enter user idE\n",
      "A 0\n",
      "B 1\n",
      "C 2\n",
      "D 3\n",
      "E 4\n",
      "E 4\n"
     ]
    }
   ],
   "source": [
    "alpha=['A','B','C','D','E','F']\n",
    "a=0\n",
    "search=input('enter user id')\n",
    "while a<len(alpha):\n",
    "        print(alpha[a],a)\n",
    "        if search== alpha[a]:\n",
    "            print(alpha[a],a)\n",
    "            break\n",
    "        a +=1"
   ]
  },
  {
   "cell_type": "code",
   "execution_count": 15,
   "id": "e6e8833d",
   "metadata": {},
   "outputs": [
    {
     "name": "stdout",
     "output_type": "stream",
     "text": [
      "enter user idC\n",
      "C 2\n"
     ]
    }
   ],
   "source": [
    "alpha=['A','B','C','D','E','F']\n",
    "\n",
    "a=0\n",
    "search=input('enter user id')\n",
    "while a<len(alpha):\n",
    "       \n",
    "        if search== users[a]:\n",
    "            print(alpha[a],a)\n",
    "            break\n",
    "        a +=1"
   ]
  },
  {
   "cell_type": "code",
   "execution_count": 16,
   "id": "abf03bfb",
   "metadata": {},
   "outputs": [
    {
     "name": "stdout",
     "output_type": "stream",
     "text": [
      "A\n",
      "B\n",
      "C\n",
      "D\n",
      "E\n",
      "F\n"
     ]
    }
   ],
   "source": [
    "# alternative of while loop is for loop \n",
    "# counter ,logic, incremenr/decrement exixt in same line in for loop\n",
    "for i in alpha:\n",
    "    print(i)"
   ]
  },
  {
   "cell_type": "code",
   "execution_count": 17,
   "id": "7250a92c",
   "metadata": {},
   "outputs": [
    {
     "name": "stdout",
     "output_type": "stream",
     "text": [
      "1\n",
      "2\n",
      "3\n",
      "4\n",
      "5\n"
     ]
    }
   ],
   "source": [
    "for s  in [1,2,3,4,5]:\n",
    "    print(s)"
   ]
  },
  {
   "cell_type": "code",
   "execution_count": 18,
   "id": "ac1a73cd",
   "metadata": {},
   "outputs": [
    {
     "name": "stdout",
     "output_type": "stream",
     "text": [
      "enter name|enter x for exit shahid\n",
      "enter name|enter x for exit ali\n",
      "enter name|enter x for exit x\n"
     ]
    }
   ],
   "source": [
    "names=[]\n",
    "while True:\n",
    "    name=input('enter name|enter x for exit ')\n",
    "    if name=='X' or name=='x':\n",
    "        break\n",
    "        names.append=name()"
   ]
  },
  {
   "cell_type": "code",
   "execution_count": 22,
   "id": "5f4df181",
   "metadata": {},
   "outputs": [
    {
     "name": "stdout",
     "output_type": "stream",
     "text": [
      "enter value:d\n",
      "a\n",
      "b\n",
      "c\n",
      "d\n",
      "e\n",
      "f\n"
     ]
    }
   ],
   "source": [
    "alpha=['a','b','c','d','e','f']\n",
    "search==input('enter value:')\n",
    "for i in alpha:\n",
    "    print(i)\n",
    "    if i==search:\n",
    "        break"
   ]
  },
  {
   "cell_type": "code",
   "execution_count": 25,
   "id": "752ce811",
   "metadata": {},
   "outputs": [
    {
     "name": "stdout",
     "output_type": "stream",
     "text": [
      "h\n",
      "u\n",
      "m\n",
      "a\n",
      "n\n",
      "i\n",
      "t\n",
      "y\n"
     ]
    }
   ],
   "source": [
    "#iterated_data_type=list,tuple,dictionary,sequential type,string\n",
    "for i in \"humanity\":\n",
    " print(i)"
   ]
  },
  {
   "cell_type": "code",
   "execution_count": 32,
   "id": "a00d7968",
   "metadata": {},
   "outputs": [],
   "source": [
    "student1={\n",
    "    'id':'1',\n",
    "    'name':\"shahid\",\n",
    "    'fname':'arshad',\n",
    "    'education':'msc'\n",
    "    }"
   ]
  },
  {
   "cell_type": "code",
   "execution_count": 36,
   "id": "eb328f45",
   "metadata": {},
   "outputs": [
    {
     "data": {
      "text/plain": [
       "dict_values(['1', 'shahid', 'arshad', 'msc'])"
      ]
     },
     "execution_count": 36,
     "metadata": {},
     "output_type": "execute_result"
    }
   ],
   "source": [
    "student1.values()"
   ]
  },
  {
   "cell_type": "code",
   "execution_count": 37,
   "id": "0a11d0e7",
   "metadata": {},
   "outputs": [
    {
     "data": {
      "text/plain": [
       "dict_keys(['id', 'name', 'fname', 'education'])"
      ]
     },
     "execution_count": 37,
     "metadata": {},
     "output_type": "execute_result"
    }
   ],
   "source": [
    "student1.keys()"
   ]
  },
  {
   "cell_type": "code",
   "execution_count": 40,
   "id": "56841c5f",
   "metadata": {},
   "outputs": [
    {
     "name": "stdout",
     "output_type": "stream",
     "text": [
      "id\n",
      "name\n",
      "fname\n",
      "education\n"
     ]
    }
   ],
   "source": [
    "student1={\n",
    "    'id':'1',\n",
    "    'name':\"shahid\",\n",
    "    'fname':'arshad',\n",
    "    'education':'msc'\n",
    "    }\n",
    "for i in student1.keys(): #iterate on keys\n",
    "    print(i)"
   ]
  },
  {
   "cell_type": "code",
   "execution_count": 41,
   "id": "9f8d98b4",
   "metadata": {},
   "outputs": [
    {
     "name": "stdout",
     "output_type": "stream",
     "text": [
      "('id', '1')\n",
      "('name', 'shahid')\n",
      "('fname', 'arshad')\n",
      "('education', 'msc')\n"
     ]
    }
   ],
   "source": [
    "student1={\n",
    "    'id':'1',\n",
    "    'name':\"shahid\",\n",
    "    'fname':'arshad',\n",
    "    'education':'msc'\n",
    "    }\n",
    "for i in student1.items(): #iterate on keys\n",
    "    print(i)"
   ]
  },
  {
   "cell_type": "code",
   "execution_count": 42,
   "id": "71417ca9",
   "metadata": {},
   "outputs": [
    {
     "name": "stdout",
     "output_type": "stream",
     "text": [
      "id\n",
      "name\n",
      "fname\n",
      "education\n"
     ]
    }
   ],
   "source": [
    "student1={\n",
    "    'id':'1',\n",
    "    'name':\"shahid\",\n",
    "    'fname':'arshad',\n",
    "    'education':'msc'\n",
    "    }\n",
    "for i in student1.keys(): #iterate on keys\n",
    "    print(i)"
   ]
  },
  {
   "cell_type": "code",
   "execution_count": 45,
   "id": "8c71d567",
   "metadata": {},
   "outputs": [
    {
     "name": "stdout",
     "output_type": "stream",
     "text": [
      "id 1\n",
      "name shahid\n",
      "fname arshad\n",
      "education msc\n"
     ]
    }
   ],
   "source": [
    "student1={\n",
    "    'id':'1',\n",
    "    'name':\"shahid\",\n",
    "    'fname':'arshad',\n",
    "    'education':'msc'\n",
    "    }\n",
    "for k,v in student1.items(): #iterate on keys\n",
    "    print(k,v)"
   ]
  },
  {
   "cell_type": "code",
   "execution_count": 2,
   "id": "d17d5c42",
   "metadata": {},
   "outputs": [
    {
     "name": "stdout",
     "output_type": "stream",
     "text": [
      "id\n",
      "1\n"
     ]
    }
   ],
   "source": [
    "k,v={'id',1}\n",
    "print(v)\n",
    "print(k)"
   ]
  },
  {
   "cell_type": "code",
   "execution_count": 15,
   "id": "bd854c0a",
   "metadata": {},
   "outputs": [
    {
     "name": "stdout",
     "output_type": "stream",
     "text": [
      "enter name|enter x for exithamza ali\n",
      "enter name|enter x for exithassan ali\n",
      "enter name|enter x for exithanan\n",
      "enter name|enter x for exitayan\n",
      "enter name|enter x for exitx\n"
     ]
    },
    {
     "data": {
      "text/plain": [
       "['hamza ali', 'hassan ali', 'hanan', 'ayan']"
      ]
     },
     "execution_count": 15,
     "metadata": {},
     "output_type": "execute_result"
    }
   ],
   "source": [
    "names=[]\n",
    "\n",
    "while True:\n",
    "    a=input('enter name|enter x for exit')\n",
    "    if a==\"x\" or a=='X':\n",
    "        break\n",
    "    names.append(a)\n",
    "names"
   ]
  },
  {
   "cell_type": "code",
   "execution_count": 16,
   "id": "f49f6386",
   "metadata": {},
   "outputs": [
    {
     "data": {
      "text/plain": [
       "['hamza ali', 'hassan ali', 'hanan', 'ayan']"
      ]
     },
     "execution_count": 16,
     "metadata": {},
     "output_type": "execute_result"
    }
   ],
   "source": [
    "names"
   ]
  },
  {
   "cell_type": "code",
   "execution_count": 19,
   "id": "cc06448f",
   "metadata": {},
   "outputs": [
    {
     "name": "stdout",
     "output_type": "stream",
     "text": [
      "enter name|enter x for exitshahid\n",
      "enter name|enter x for exitnaeedx\n"
     ]
    },
    {
     "data": {
      "text/plain": [
       "['shahid']"
      ]
     },
     "execution_count": 19,
     "metadata": {},
     "output_type": "execute_result"
    }
   ],
   "source": [
    "names=[]\n",
    "\n",
    "while True:\n",
    "    a=input('enter name|enter x for exit')\n",
    "    if 'x' in a or 'X' in a :\n",
    "        break\n",
    "    names.append(a)\n",
    "names"
   ]
  },
  {
   "cell_type": "code",
   "execution_count": 21,
   "id": "1e878226",
   "metadata": {},
   "outputs": [
    {
     "name": "stdout",
     "output_type": "stream",
     "text": [
      "1\n",
      "2\n",
      "3\n",
      "4\n",
      "5\n",
      "6\n",
      "7\n",
      "8\n",
      "9\n",
      "10\n"
     ]
    }
   ],
   "source": [
    "for i in range(1,11):\n",
    "    \n",
    "    print(i)"
   ]
  },
  {
   "cell_type": "markdown",
   "id": "e8b525d6",
   "metadata": {},
   "source": [
    "# List Comprehensive Style"
   ]
  },
  {
   "cell_type": "code",
   "execution_count": 22,
   "id": "72e0c53c",
   "metadata": {},
   "outputs": [
    {
     "name": "stdout",
     "output_type": "stream",
     "text": [
      "1\n",
      "4\n",
      "9\n",
      "16\n",
      "25\n",
      "36\n",
      "49\n",
      "64\n",
      "81\n",
      "100\n"
     ]
    }
   ],
   "source": [
    "for i in range(1,11):\n",
    "    print(i*i) # body"
   ]
  },
  {
   "cell_type": "code",
   "execution_count": 2,
   "id": "7cf46a22",
   "metadata": {},
   "outputs": [
    {
     "data": {
      "text/plain": [
       "[1, 4, 9, 16, 25, 36, 49, 64, 81, 100]"
      ]
     },
     "execution_count": 2,
     "metadata": {},
     "output_type": "execute_result"
    }
   ],
   "source": [
    "[i*i for i in range(1,11)]    # comprehensive style\n",
    "    # no need to print \n",
    "   #in comprehesive style body in writte first and then loop start"
   ]
  },
  {
   "cell_type": "code",
   "execution_count": 3,
   "id": "7c390f36",
   "metadata": {},
   "outputs": [
    {
     "data": {
      "text/plain": [
       "<generator object <genexpr> at 0x0000022D7F9EE430>"
      ]
     },
     "execution_count": 3,
     "metadata": {},
     "output_type": "execute_result"
    }
   ],
   "source": [
    "(i*i for i in range(1,11) )"
   ]
  },
  {
   "cell_type": "code",
   "execution_count": 4,
   "id": "12a4cc9e",
   "metadata": {},
   "outputs": [
    {
     "data": {
      "text/plain": [
       "[1, 4, 9, 16, 25, 36, 49, 64, 81, 100]"
      ]
     },
     "execution_count": 4,
     "metadata": {},
     "output_type": "execute_result"
    }
   ],
   "source": [
    "list((i*i for i in range(1,11) )) #tuple\n"
   ]
  },
  {
   "cell_type": "code",
   "execution_count": 19,
   "id": "6c5a278c",
   "metadata": {},
   "outputs": [
    {
     "data": {
      "text/plain": [
       "{1: 1, 2: 4, 3: 9, 4: 16, 5: 25, 6: 36, 7: 49, 8: 64, 9: 81, 10: 100}"
      ]
     },
     "execution_count": 19,
     "metadata": {},
     "output_type": "execute_result"
    }
   ],
   "source": [
    "{i:i*i for i in range(1,11) }\n"
   ]
  },
  {
   "cell_type": "code",
   "execution_count": 20,
   "id": "8008565e",
   "metadata": {},
   "outputs": [
    {
     "data": {
      "text/plain": [
       "{65: 'A',\n",
       " 66: 'B',\n",
       " 67: 'C',\n",
       " 68: 'D',\n",
       " 69: 'E',\n",
       " 70: 'F',\n",
       " 71: 'G',\n",
       " 72: 'H',\n",
       " 73: 'I',\n",
       " 74: 'J',\n",
       " 75: 'K',\n",
       " 76: 'L',\n",
       " 77: 'M',\n",
       " 78: 'N',\n",
       " 79: 'O',\n",
       " 80: 'P',\n",
       " 81: 'Q',\n",
       " 82: 'R',\n",
       " 83: 'S',\n",
       " 84: 'T',\n",
       " 85: 'U',\n",
       " 86: 'V',\n",
       " 87: 'W',\n",
       " 88: 'X',\n",
       " 89: 'Y',\n",
       " 90: 'Z'}"
      ]
     },
     "execution_count": 20,
     "metadata": {},
     "output_type": "execute_result"
    }
   ],
   "source": [
    "{code:chr(code) for code in range (65,91)}"
   ]
  },
  {
   "cell_type": "code",
   "execution_count": 21,
   "id": "11749df8",
   "metadata": {},
   "outputs": [
    {
     "data": {
      "text/plain": [
       "{65: 'A',\n",
       " 66: 'B',\n",
       " 67: 'C',\n",
       " 68: 'D',\n",
       " 69: 'E',\n",
       " 70: 'F',\n",
       " 71: 'G',\n",
       " 72: 'H',\n",
       " 73: 'I',\n",
       " 74: 'J',\n",
       " 75: 'K',\n",
       " 76: 'L',\n",
       " 77: 'M',\n",
       " 78: 'N',\n",
       " 79: 'O',\n",
       " 80: 'P',\n",
       " 81: 'Q',\n",
       " 82: 'R',\n",
       " 83: 'S',\n",
       " 84: 'T',\n",
       " 85: 'U',\n",
       " 86: 'V',\n",
       " 87: 'W',\n",
       " 88: 'X',\n",
       " 89: 'Y',\n",
       " 90: 'Z'}"
      ]
     },
     "execution_count": 21,
     "metadata": {},
     "output_type": "execute_result"
    }
   ],
   "source": [
    "{a:chr(a) for a in range(65,91)}"
   ]
  },
  {
   "cell_type": "markdown",
   "id": "96d1e5f9",
   "metadata": {},
   "source": [
    "# Nested Loop "
   ]
  },
  {
   "cell_type": "code",
   "execution_count": 22,
   "id": "083cf1b2",
   "metadata": {},
   "outputs": [
    {
     "data": {
      "text/plain": [
       "[2, 4, 6, 8, 10, 12, 14, 16, 18, 20]"
      ]
     },
     "execution_count": 22,
     "metadata": {},
     "output_type": "execute_result"
    }
   ],
   "source": [
    "[i*2 for i in range(1,11)]"
   ]
  },
  {
   "cell_type": "code",
   "execution_count": 24,
   "id": "004d8685",
   "metadata": {},
   "outputs": [
    {
     "data": {
      "text/plain": [
       "[3, 6, 9, 12, 15, 18, 21, 24, 27, 30]"
      ]
     },
     "execution_count": 24,
     "metadata": {},
     "output_type": "execute_result"
    }
   ],
   "source": [
    "[i*3 for i in range(1,11)]"
   ]
  },
  {
   "cell_type": "code",
   "execution_count": 25,
   "id": "439496cc",
   "metadata": {},
   "outputs": [
    {
     "name": "stdout",
     "output_type": "stream",
     "text": [
      "1\n",
      "2\n",
      "3\n",
      "4\n",
      "5\n",
      "6\n",
      "7\n",
      "8\n",
      "9\n",
      "10\n"
     ]
    }
   ],
   "source": [
    "for s in range(1,11):\n",
    "    print(s)"
   ]
  },
  {
   "cell_type": "code",
   "execution_count": 27,
   "id": "0e1a4e5d",
   "metadata": {},
   "outputs": [
    {
     "name": "stdout",
     "output_type": "stream",
     "text": [
      "1 a\n",
      "2 aa\n",
      "3 aaa\n",
      "4 aaaa\n",
      "5 aaaaa\n",
      "6 aaaaaa\n",
      "7 aaaaaaa\n",
      "8 aaaaaaaa\n",
      "9 aaaaaaaaa\n",
      "10 aaaaaaaaaa\n"
     ]
    }
   ],
   "source": [
    "for s in range(1,11):\n",
    "    print(s,'a'*s)"
   ]
  },
  {
   "cell_type": "code",
   "execution_count": 72,
   "id": "a5964302",
   "metadata": {},
   "outputs": [
    {
     "name": "stdout",
     "output_type": "stream",
     "text": [
      "1\n",
      "A\n",
      "\n",
      "2\n",
      "A\n",
      "B\n",
      "\n",
      "3\n",
      "A\n",
      "B\n",
      "C\n",
      "\n",
      "4\n",
      "A\n",
      "B\n",
      "C\n",
      "D\n",
      "\n",
      "5\n",
      "A\n",
      "B\n",
      "C\n",
      "D\n",
      "E\n",
      "\n",
      "6\n",
      "A\n",
      "B\n",
      "C\n",
      "D\n",
      "E\n",
      "F\n",
      "\n",
      "7\n",
      "A\n",
      "B\n",
      "C\n",
      "D\n",
      "E\n",
      "F\n",
      "G\n",
      "\n",
      "8\n",
      "A\n",
      "B\n",
      "C\n",
      "D\n",
      "E\n",
      "F\n",
      "G\n",
      "H\n",
      "\n",
      "9\n",
      "A\n",
      "B\n",
      "C\n",
      "D\n",
      "E\n",
      "F\n",
      "G\n",
      "H\n",
      "I\n",
      "\n",
      "10\n",
      "A\n",
      "B\n",
      "C\n",
      "D\n",
      "E\n",
      "F\n",
      "G\n",
      "H\n",
      "I\n",
      "J\n",
      "\n",
      "11\n",
      "A\n",
      "B\n",
      "C\n",
      "D\n",
      "E\n",
      "F\n",
      "G\n",
      "H\n",
      "I\n",
      "J\n",
      "K\n",
      "\n",
      "12\n",
      "A\n",
      "B\n",
      "C\n",
      "D\n",
      "E\n",
      "F\n",
      "G\n",
      "H\n",
      "I\n",
      "J\n",
      "K\n",
      "L\n",
      "\n",
      "13\n",
      "A\n",
      "B\n",
      "C\n",
      "D\n",
      "E\n",
      "F\n",
      "G\n",
      "H\n",
      "I\n",
      "J\n",
      "K\n",
      "L\n",
      "M\n",
      "\n",
      "14\n",
      "A\n",
      "B\n",
      "C\n",
      "D\n",
      "E\n",
      "F\n",
      "G\n",
      "H\n",
      "I\n",
      "J\n",
      "K\n",
      "L\n",
      "M\n",
      "N\n",
      "\n",
      "15\n",
      "A\n",
      "B\n",
      "C\n",
      "D\n",
      "E\n",
      "F\n",
      "G\n",
      "H\n",
      "I\n",
      "J\n",
      "K\n",
      "L\n",
      "M\n",
      "N\n",
      "O\n",
      "\n",
      "16\n",
      "A\n",
      "B\n",
      "C\n",
      "D\n",
      "E\n",
      "F\n",
      "G\n",
      "H\n",
      "I\n",
      "J\n",
      "K\n",
      "L\n",
      "M\n",
      "N\n",
      "O\n",
      "P\n",
      "\n",
      "17\n",
      "A\n",
      "B\n",
      "C\n",
      "D\n",
      "E\n",
      "F\n",
      "G\n",
      "H\n",
      "I\n",
      "J\n",
      "K\n",
      "L\n",
      "M\n",
      "N\n",
      "O\n",
      "P\n",
      "Q\n",
      "\n",
      "18\n",
      "A\n",
      "B\n",
      "C\n",
      "D\n",
      "E\n",
      "F\n",
      "G\n",
      "H\n",
      "I\n",
      "J\n",
      "K\n",
      "L\n",
      "M\n",
      "N\n",
      "O\n",
      "P\n",
      "Q\n",
      "R\n",
      "\n",
      "19\n",
      "A\n",
      "B\n",
      "C\n",
      "D\n",
      "E\n",
      "F\n",
      "G\n",
      "H\n",
      "I\n",
      "J\n",
      "K\n",
      "L\n",
      "M\n",
      "N\n",
      "O\n",
      "P\n",
      "Q\n",
      "R\n",
      "S\n",
      "\n",
      "20\n",
      "A\n",
      "B\n",
      "C\n",
      "D\n",
      "E\n",
      "F\n",
      "G\n",
      "H\n",
      "I\n",
      "J\n",
      "K\n",
      "L\n",
      "M\n",
      "N\n",
      "O\n",
      "P\n",
      "Q\n",
      "R\n",
      "S\n",
      "T\n",
      "\n",
      "21\n",
      "A\n",
      "B\n",
      "C\n",
      "D\n",
      "E\n",
      "F\n",
      "G\n",
      "H\n",
      "I\n",
      "J\n",
      "K\n",
      "L\n",
      "M\n",
      "N\n",
      "O\n",
      "P\n",
      "Q\n",
      "R\n",
      "S\n",
      "T\n",
      "U\n",
      "\n",
      "22\n",
      "A\n",
      "B\n",
      "C\n",
      "D\n",
      "E\n",
      "F\n",
      "G\n",
      "H\n",
      "I\n",
      "J\n",
      "K\n",
      "L\n",
      "M\n",
      "N\n",
      "O\n",
      "P\n",
      "Q\n",
      "R\n",
      "S\n",
      "T\n",
      "U\n",
      "V\n",
      "\n",
      "23\n",
      "A\n",
      "B\n",
      "C\n",
      "D\n",
      "E\n",
      "F\n",
      "G\n",
      "H\n",
      "I\n",
      "J\n",
      "K\n",
      "L\n",
      "M\n",
      "N\n",
      "O\n",
      "P\n",
      "Q\n",
      "R\n",
      "S\n",
      "T\n",
      "U\n",
      "V\n",
      "W\n",
      "\n",
      "24\n",
      "A\n",
      "B\n",
      "C\n",
      "D\n",
      "E\n",
      "F\n",
      "G\n",
      "H\n",
      "I\n",
      "J\n",
      "K\n",
      "L\n",
      "M\n",
      "N\n",
      "O\n",
      "P\n",
      "Q\n",
      "R\n",
      "S\n",
      "T\n",
      "U\n",
      "V\n",
      "W\n",
      "X\n",
      "\n",
      "25\n",
      "A\n",
      "B\n",
      "C\n",
      "D\n",
      "E\n",
      "F\n",
      "G\n",
      "H\n",
      "I\n",
      "J\n",
      "K\n",
      "L\n",
      "M\n",
      "N\n",
      "O\n",
      "P\n",
      "Q\n",
      "R\n",
      "S\n",
      "T\n",
      "U\n",
      "V\n",
      "W\n",
      "X\n",
      "Y\n",
      "\n",
      "26\n",
      "A\n",
      "B\n",
      "C\n",
      "D\n",
      "E\n",
      "F\n",
      "G\n",
      "H\n",
      "I\n",
      "J\n",
      "K\n",
      "L\n",
      "M\n",
      "N\n",
      "O\n",
      "P\n",
      "Q\n",
      "R\n",
      "S\n",
      "T\n",
      "U\n",
      "V\n",
      "W\n",
      "X\n",
      "Y\n",
      "Z\n",
      "\n"
     ]
    }
   ],
   "source": [
    "for s in range(1,27):\n",
    "    print(s)\n",
    "    for a in range(65,65+s):\n",
    "        print(chr(a))\n",
    "    print()\n",
    "    "
   ]
  },
  {
   "cell_type": "code",
   "execution_count": 42,
   "id": "b7658823",
   "metadata": {},
   "outputs": [
    {
     "name": "stdout",
     "output_type": "stream",
     "text": [
      "1A 2A B 3A B C 4A B C D 5A B C D E 6A B C D E F 7A B C D E F G 8A B C D E F G H 9A B C D E F G H I 10A B C D E F G H I J 11A B C D E F G H I J K 12A B C D E F G H I J K L 13A B C D E F G H I J K L M 14A B C D E F G H I J K L M N 15A B C D E F G H I J K L M N O 16A B C D E F G H I J K L M N O P 17A B C D E F G H I J K L M N O P Q 18A B C D E F G H I J K L M N O P Q R 19A B C D E F G H I J K L M N O P Q R S 20A B C D E F G H I J K L M N O P Q R S T 21A B C D E F G H I J K L M N O P Q R S T U 22A B C D E F G H I J K L M N O P Q R S T U V 23A B C D E F G H I J K L M N O P Q R S T U V W 24A B C D E F G H I J K L M N O P Q R S T U V W X 25A B C D E F G H I J K L M N O P Q R S T U V W X Y 26A B C D E F G H I J K L M N O P Q R S T U V W X Y Z "
     ]
    }
   ],
   "source": [
    "for s in range(1,27):\n",
    "    print(s,end='')\n",
    "    for a in range(65,65+s):\n",
    "        print(chr(a),end=' ')\n",
    "   # print()\n",
    "        # print at the end contains line breaker"
   ]
  },
  {
   "cell_type": "code",
   "execution_count": 43,
   "id": "30169267",
   "metadata": {},
   "outputs": [
    {
     "name": "stdout",
     "output_type": "stream",
     "text": [
      "1A \n",
      "2A B \n",
      "3A B C \n",
      "4A B C D \n",
      "5A B C D E \n",
      "6A B C D E F \n",
      "7A B C D E F G \n",
      "8A B C D E F G H \n",
      "9A B C D E F G H I \n",
      "10A B C D E F G H I J \n",
      "11A B C D E F G H I J K \n",
      "12A B C D E F G H I J K L \n",
      "13A B C D E F G H I J K L M \n",
      "14A B C D E F G H I J K L M N \n",
      "15A B C D E F G H I J K L M N O \n",
      "16A B C D E F G H I J K L M N O P \n",
      "17A B C D E F G H I J K L M N O P Q \n",
      "18A B C D E F G H I J K L M N O P Q R \n",
      "19A B C D E F G H I J K L M N O P Q R S \n",
      "20A B C D E F G H I J K L M N O P Q R S T \n",
      "21A B C D E F G H I J K L M N O P Q R S T U \n",
      "22A B C D E F G H I J K L M N O P Q R S T U V \n",
      "23A B C D E F G H I J K L M N O P Q R S T U V W \n",
      "24A B C D E F G H I J K L M N O P Q R S T U V W X \n",
      "25A B C D E F G H I J K L M N O P Q R S T U V W X Y \n",
      "26A B C D E F G H I J K L M N O P Q R S T U V W X Y Z \n"
     ]
    }
   ],
   "source": [
    "for s in range(1,27):\n",
    "    print(s,end='')\n",
    "    for a in range(65,65+s):\n",
    "        print(chr(a),end=' ')\n",
    "    print()"
   ]
  },
  {
   "cell_type": "code",
   "execution_count": 48,
   "id": "5bfe23a1",
   "metadata": {},
   "outputs": [
    {
     "data": {
      "text/plain": [
       "[(1, 65),\n",
       " (2, 65),\n",
       " (2, 66),\n",
       " (3, 65),\n",
       " (3, 66),\n",
       " (3, 67),\n",
       " (4, 65),\n",
       " (4, 66),\n",
       " (4, 67),\n",
       " (4, 68),\n",
       " (5, 65),\n",
       " (5, 66),\n",
       " (5, 67),\n",
       " (5, 68),\n",
       " (5, 69),\n",
       " (6, 65),\n",
       " (6, 66),\n",
       " (6, 67),\n",
       " (6, 68),\n",
       " (6, 69),\n",
       " (6, 70),\n",
       " (7, 65),\n",
       " (7, 66),\n",
       " (7, 67),\n",
       " (7, 68),\n",
       " (7, 69),\n",
       " (7, 70),\n",
       " (7, 71),\n",
       " (8, 65),\n",
       " (8, 66),\n",
       " (8, 67),\n",
       " (8, 68),\n",
       " (8, 69),\n",
       " (8, 70),\n",
       " (8, 71),\n",
       " (8, 72),\n",
       " (9, 65),\n",
       " (9, 66),\n",
       " (9, 67),\n",
       " (9, 68),\n",
       " (9, 69),\n",
       " (9, 70),\n",
       " (9, 71),\n",
       " (9, 72),\n",
       " (9, 73),\n",
       " (10, 65),\n",
       " (10, 66),\n",
       " (10, 67),\n",
       " (10, 68),\n",
       " (10, 69),\n",
       " (10, 70),\n",
       " (10, 71),\n",
       " (10, 72),\n",
       " (10, 73),\n",
       " (10, 74),\n",
       " (11, 65),\n",
       " (11, 66),\n",
       " (11, 67),\n",
       " (11, 68),\n",
       " (11, 69),\n",
       " (11, 70),\n",
       " (11, 71),\n",
       " (11, 72),\n",
       " (11, 73),\n",
       " (11, 74),\n",
       " (11, 75),\n",
       " (12, 65),\n",
       " (12, 66),\n",
       " (12, 67),\n",
       " (12, 68),\n",
       " (12, 69),\n",
       " (12, 70),\n",
       " (12, 71),\n",
       " (12, 72),\n",
       " (12, 73),\n",
       " (12, 74),\n",
       " (12, 75),\n",
       " (12, 76),\n",
       " (13, 65),\n",
       " (13, 66),\n",
       " (13, 67),\n",
       " (13, 68),\n",
       " (13, 69),\n",
       " (13, 70),\n",
       " (13, 71),\n",
       " (13, 72),\n",
       " (13, 73),\n",
       " (13, 74),\n",
       " (13, 75),\n",
       " (13, 76),\n",
       " (13, 77),\n",
       " (14, 65),\n",
       " (14, 66),\n",
       " (14, 67),\n",
       " (14, 68),\n",
       " (14, 69),\n",
       " (14, 70),\n",
       " (14, 71),\n",
       " (14, 72),\n",
       " (14, 73),\n",
       " (14, 74),\n",
       " (14, 75),\n",
       " (14, 76),\n",
       " (14, 77),\n",
       " (14, 78),\n",
       " (15, 65),\n",
       " (15, 66),\n",
       " (15, 67),\n",
       " (15, 68),\n",
       " (15, 69),\n",
       " (15, 70),\n",
       " (15, 71),\n",
       " (15, 72),\n",
       " (15, 73),\n",
       " (15, 74),\n",
       " (15, 75),\n",
       " (15, 76),\n",
       " (15, 77),\n",
       " (15, 78),\n",
       " (15, 79),\n",
       " (16, 65),\n",
       " (16, 66),\n",
       " (16, 67),\n",
       " (16, 68),\n",
       " (16, 69),\n",
       " (16, 70),\n",
       " (16, 71),\n",
       " (16, 72),\n",
       " (16, 73),\n",
       " (16, 74),\n",
       " (16, 75),\n",
       " (16, 76),\n",
       " (16, 77),\n",
       " (16, 78),\n",
       " (16, 79),\n",
       " (16, 80),\n",
       " (17, 65),\n",
       " (17, 66),\n",
       " (17, 67),\n",
       " (17, 68),\n",
       " (17, 69),\n",
       " (17, 70),\n",
       " (17, 71),\n",
       " (17, 72),\n",
       " (17, 73),\n",
       " (17, 74),\n",
       " (17, 75),\n",
       " (17, 76),\n",
       " (17, 77),\n",
       " (17, 78),\n",
       " (17, 79),\n",
       " (17, 80),\n",
       " (17, 81),\n",
       " (18, 65),\n",
       " (18, 66),\n",
       " (18, 67),\n",
       " (18, 68),\n",
       " (18, 69),\n",
       " (18, 70),\n",
       " (18, 71),\n",
       " (18, 72),\n",
       " (18, 73),\n",
       " (18, 74),\n",
       " (18, 75),\n",
       " (18, 76),\n",
       " (18, 77),\n",
       " (18, 78),\n",
       " (18, 79),\n",
       " (18, 80),\n",
       " (18, 81),\n",
       " (18, 82),\n",
       " (19, 65),\n",
       " (19, 66),\n",
       " (19, 67),\n",
       " (19, 68),\n",
       " (19, 69),\n",
       " (19, 70),\n",
       " (19, 71),\n",
       " (19, 72),\n",
       " (19, 73),\n",
       " (19, 74),\n",
       " (19, 75),\n",
       " (19, 76),\n",
       " (19, 77),\n",
       " (19, 78),\n",
       " (19, 79),\n",
       " (19, 80),\n",
       " (19, 81),\n",
       " (19, 82),\n",
       " (19, 83),\n",
       " (20, 65),\n",
       " (20, 66),\n",
       " (20, 67),\n",
       " (20, 68),\n",
       " (20, 69),\n",
       " (20, 70),\n",
       " (20, 71),\n",
       " (20, 72),\n",
       " (20, 73),\n",
       " (20, 74),\n",
       " (20, 75),\n",
       " (20, 76),\n",
       " (20, 77),\n",
       " (20, 78),\n",
       " (20, 79),\n",
       " (20, 80),\n",
       " (20, 81),\n",
       " (20, 82),\n",
       " (20, 83),\n",
       " (20, 84),\n",
       " (21, 65),\n",
       " (21, 66),\n",
       " (21, 67),\n",
       " (21, 68),\n",
       " (21, 69),\n",
       " (21, 70),\n",
       " (21, 71),\n",
       " (21, 72),\n",
       " (21, 73),\n",
       " (21, 74),\n",
       " (21, 75),\n",
       " (21, 76),\n",
       " (21, 77),\n",
       " (21, 78),\n",
       " (21, 79),\n",
       " (21, 80),\n",
       " (21, 81),\n",
       " (21, 82),\n",
       " (21, 83),\n",
       " (21, 84),\n",
       " (21, 85),\n",
       " (22, 65),\n",
       " (22, 66),\n",
       " (22, 67),\n",
       " (22, 68),\n",
       " (22, 69),\n",
       " (22, 70),\n",
       " (22, 71),\n",
       " (22, 72),\n",
       " (22, 73),\n",
       " (22, 74),\n",
       " (22, 75),\n",
       " (22, 76),\n",
       " (22, 77),\n",
       " (22, 78),\n",
       " (22, 79),\n",
       " (22, 80),\n",
       " (22, 81),\n",
       " (22, 82),\n",
       " (22, 83),\n",
       " (22, 84),\n",
       " (22, 85),\n",
       " (22, 86),\n",
       " (23, 65),\n",
       " (23, 66),\n",
       " (23, 67),\n",
       " (23, 68),\n",
       " (23, 69),\n",
       " (23, 70),\n",
       " (23, 71),\n",
       " (23, 72),\n",
       " (23, 73),\n",
       " (23, 74),\n",
       " (23, 75),\n",
       " (23, 76),\n",
       " (23, 77),\n",
       " (23, 78),\n",
       " (23, 79),\n",
       " (23, 80),\n",
       " (23, 81),\n",
       " (23, 82),\n",
       " (23, 83),\n",
       " (23, 84),\n",
       " (23, 85),\n",
       " (23, 86),\n",
       " (23, 87),\n",
       " (24, 65),\n",
       " (24, 66),\n",
       " (24, 67),\n",
       " (24, 68),\n",
       " (24, 69),\n",
       " (24, 70),\n",
       " (24, 71),\n",
       " (24, 72),\n",
       " (24, 73),\n",
       " (24, 74),\n",
       " (24, 75),\n",
       " (24, 76),\n",
       " (24, 77),\n",
       " (24, 78),\n",
       " (24, 79),\n",
       " (24, 80),\n",
       " (24, 81),\n",
       " (24, 82),\n",
       " (24, 83),\n",
       " (24, 84),\n",
       " (24, 85),\n",
       " (24, 86),\n",
       " (24, 87),\n",
       " (24, 88),\n",
       " (25, 65),\n",
       " (25, 66),\n",
       " (25, 67),\n",
       " (25, 68),\n",
       " (25, 69),\n",
       " (25, 70),\n",
       " (25, 71),\n",
       " (25, 72),\n",
       " (25, 73),\n",
       " (25, 74),\n",
       " (25, 75),\n",
       " (25, 76),\n",
       " (25, 77),\n",
       " (25, 78),\n",
       " (25, 79),\n",
       " (25, 80),\n",
       " (25, 81),\n",
       " (25, 82),\n",
       " (25, 83),\n",
       " (25, 84),\n",
       " (25, 85),\n",
       " (25, 86),\n",
       " (25, 87),\n",
       " (25, 88),\n",
       " (25, 89)]"
      ]
     },
     "execution_count": 48,
     "metadata": {},
     "output_type": "execute_result"
    }
   ],
   "source": [
    "[(i ,j) for i in range(1,26) for j in range(65,65+i)]"
   ]
  },
  {
   "cell_type": "code",
   "execution_count": 50,
   "id": "0b392ae1",
   "metadata": {},
   "outputs": [
    {
     "data": {
      "text/plain": [
       "[(1, 'A'),\n",
       " (2, 'A'),\n",
       " (2, 'B'),\n",
       " (3, 'A'),\n",
       " (3, 'B'),\n",
       " (3, 'C'),\n",
       " (4, 'A'),\n",
       " (4, 'B'),\n",
       " (4, 'C'),\n",
       " (4, 'D'),\n",
       " (5, 'A'),\n",
       " (5, 'B'),\n",
       " (5, 'C'),\n",
       " (5, 'D'),\n",
       " (5, 'E'),\n",
       " (6, 'A'),\n",
       " (6, 'B'),\n",
       " (6, 'C'),\n",
       " (6, 'D'),\n",
       " (6, 'E'),\n",
       " (6, 'F'),\n",
       " (7, 'A'),\n",
       " (7, 'B'),\n",
       " (7, 'C'),\n",
       " (7, 'D'),\n",
       " (7, 'E'),\n",
       " (7, 'F'),\n",
       " (7, 'G'),\n",
       " (8, 'A'),\n",
       " (8, 'B'),\n",
       " (8, 'C'),\n",
       " (8, 'D'),\n",
       " (8, 'E'),\n",
       " (8, 'F'),\n",
       " (8, 'G'),\n",
       " (8, 'H'),\n",
       " (9, 'A'),\n",
       " (9, 'B'),\n",
       " (9, 'C'),\n",
       " (9, 'D'),\n",
       " (9, 'E'),\n",
       " (9, 'F'),\n",
       " (9, 'G'),\n",
       " (9, 'H'),\n",
       " (9, 'I'),\n",
       " (10, 'A'),\n",
       " (10, 'B'),\n",
       " (10, 'C'),\n",
       " (10, 'D'),\n",
       " (10, 'E'),\n",
       " (10, 'F'),\n",
       " (10, 'G'),\n",
       " (10, 'H'),\n",
       " (10, 'I'),\n",
       " (10, 'J'),\n",
       " (11, 'A'),\n",
       " (11, 'B'),\n",
       " (11, 'C'),\n",
       " (11, 'D'),\n",
       " (11, 'E'),\n",
       " (11, 'F'),\n",
       " (11, 'G'),\n",
       " (11, 'H'),\n",
       " (11, 'I'),\n",
       " (11, 'J'),\n",
       " (11, 'K'),\n",
       " (12, 'A'),\n",
       " (12, 'B'),\n",
       " (12, 'C'),\n",
       " (12, 'D'),\n",
       " (12, 'E'),\n",
       " (12, 'F'),\n",
       " (12, 'G'),\n",
       " (12, 'H'),\n",
       " (12, 'I'),\n",
       " (12, 'J'),\n",
       " (12, 'K'),\n",
       " (12, 'L'),\n",
       " (13, 'A'),\n",
       " (13, 'B'),\n",
       " (13, 'C'),\n",
       " (13, 'D'),\n",
       " (13, 'E'),\n",
       " (13, 'F'),\n",
       " (13, 'G'),\n",
       " (13, 'H'),\n",
       " (13, 'I'),\n",
       " (13, 'J'),\n",
       " (13, 'K'),\n",
       " (13, 'L'),\n",
       " (13, 'M'),\n",
       " (14, 'A'),\n",
       " (14, 'B'),\n",
       " (14, 'C'),\n",
       " (14, 'D'),\n",
       " (14, 'E'),\n",
       " (14, 'F'),\n",
       " (14, 'G'),\n",
       " (14, 'H'),\n",
       " (14, 'I'),\n",
       " (14, 'J'),\n",
       " (14, 'K'),\n",
       " (14, 'L'),\n",
       " (14, 'M'),\n",
       " (14, 'N'),\n",
       " (15, 'A'),\n",
       " (15, 'B'),\n",
       " (15, 'C'),\n",
       " (15, 'D'),\n",
       " (15, 'E'),\n",
       " (15, 'F'),\n",
       " (15, 'G'),\n",
       " (15, 'H'),\n",
       " (15, 'I'),\n",
       " (15, 'J'),\n",
       " (15, 'K'),\n",
       " (15, 'L'),\n",
       " (15, 'M'),\n",
       " (15, 'N'),\n",
       " (15, 'O'),\n",
       " (16, 'A'),\n",
       " (16, 'B'),\n",
       " (16, 'C'),\n",
       " (16, 'D'),\n",
       " (16, 'E'),\n",
       " (16, 'F'),\n",
       " (16, 'G'),\n",
       " (16, 'H'),\n",
       " (16, 'I'),\n",
       " (16, 'J'),\n",
       " (16, 'K'),\n",
       " (16, 'L'),\n",
       " (16, 'M'),\n",
       " (16, 'N'),\n",
       " (16, 'O'),\n",
       " (16, 'P'),\n",
       " (17, 'A'),\n",
       " (17, 'B'),\n",
       " (17, 'C'),\n",
       " (17, 'D'),\n",
       " (17, 'E'),\n",
       " (17, 'F'),\n",
       " (17, 'G'),\n",
       " (17, 'H'),\n",
       " (17, 'I'),\n",
       " (17, 'J'),\n",
       " (17, 'K'),\n",
       " (17, 'L'),\n",
       " (17, 'M'),\n",
       " (17, 'N'),\n",
       " (17, 'O'),\n",
       " (17, 'P'),\n",
       " (17, 'Q'),\n",
       " (18, 'A'),\n",
       " (18, 'B'),\n",
       " (18, 'C'),\n",
       " (18, 'D'),\n",
       " (18, 'E'),\n",
       " (18, 'F'),\n",
       " (18, 'G'),\n",
       " (18, 'H'),\n",
       " (18, 'I'),\n",
       " (18, 'J'),\n",
       " (18, 'K'),\n",
       " (18, 'L'),\n",
       " (18, 'M'),\n",
       " (18, 'N'),\n",
       " (18, 'O'),\n",
       " (18, 'P'),\n",
       " (18, 'Q'),\n",
       " (18, 'R'),\n",
       " (19, 'A'),\n",
       " (19, 'B'),\n",
       " (19, 'C'),\n",
       " (19, 'D'),\n",
       " (19, 'E'),\n",
       " (19, 'F'),\n",
       " (19, 'G'),\n",
       " (19, 'H'),\n",
       " (19, 'I'),\n",
       " (19, 'J'),\n",
       " (19, 'K'),\n",
       " (19, 'L'),\n",
       " (19, 'M'),\n",
       " (19, 'N'),\n",
       " (19, 'O'),\n",
       " (19, 'P'),\n",
       " (19, 'Q'),\n",
       " (19, 'R'),\n",
       " (19, 'S'),\n",
       " (20, 'A'),\n",
       " (20, 'B'),\n",
       " (20, 'C'),\n",
       " (20, 'D'),\n",
       " (20, 'E'),\n",
       " (20, 'F'),\n",
       " (20, 'G'),\n",
       " (20, 'H'),\n",
       " (20, 'I'),\n",
       " (20, 'J'),\n",
       " (20, 'K'),\n",
       " (20, 'L'),\n",
       " (20, 'M'),\n",
       " (20, 'N'),\n",
       " (20, 'O'),\n",
       " (20, 'P'),\n",
       " (20, 'Q'),\n",
       " (20, 'R'),\n",
       " (20, 'S'),\n",
       " (20, 'T'),\n",
       " (21, 'A'),\n",
       " (21, 'B'),\n",
       " (21, 'C'),\n",
       " (21, 'D'),\n",
       " (21, 'E'),\n",
       " (21, 'F'),\n",
       " (21, 'G'),\n",
       " (21, 'H'),\n",
       " (21, 'I'),\n",
       " (21, 'J'),\n",
       " (21, 'K'),\n",
       " (21, 'L'),\n",
       " (21, 'M'),\n",
       " (21, 'N'),\n",
       " (21, 'O'),\n",
       " (21, 'P'),\n",
       " (21, 'Q'),\n",
       " (21, 'R'),\n",
       " (21, 'S'),\n",
       " (21, 'T'),\n",
       " (21, 'U'),\n",
       " (22, 'A'),\n",
       " (22, 'B'),\n",
       " (22, 'C'),\n",
       " (22, 'D'),\n",
       " (22, 'E'),\n",
       " (22, 'F'),\n",
       " (22, 'G'),\n",
       " (22, 'H'),\n",
       " (22, 'I'),\n",
       " (22, 'J'),\n",
       " (22, 'K'),\n",
       " (22, 'L'),\n",
       " (22, 'M'),\n",
       " (22, 'N'),\n",
       " (22, 'O'),\n",
       " (22, 'P'),\n",
       " (22, 'Q'),\n",
       " (22, 'R'),\n",
       " (22, 'S'),\n",
       " (22, 'T'),\n",
       " (22, 'U'),\n",
       " (22, 'V'),\n",
       " (23, 'A'),\n",
       " (23, 'B'),\n",
       " (23, 'C'),\n",
       " (23, 'D'),\n",
       " (23, 'E'),\n",
       " (23, 'F'),\n",
       " (23, 'G'),\n",
       " (23, 'H'),\n",
       " (23, 'I'),\n",
       " (23, 'J'),\n",
       " (23, 'K'),\n",
       " (23, 'L'),\n",
       " (23, 'M'),\n",
       " (23, 'N'),\n",
       " (23, 'O'),\n",
       " (23, 'P'),\n",
       " (23, 'Q'),\n",
       " (23, 'R'),\n",
       " (23, 'S'),\n",
       " (23, 'T'),\n",
       " (23, 'U'),\n",
       " (23, 'V'),\n",
       " (23, 'W'),\n",
       " (24, 'A'),\n",
       " (24, 'B'),\n",
       " (24, 'C'),\n",
       " (24, 'D'),\n",
       " (24, 'E'),\n",
       " (24, 'F'),\n",
       " (24, 'G'),\n",
       " (24, 'H'),\n",
       " (24, 'I'),\n",
       " (24, 'J'),\n",
       " (24, 'K'),\n",
       " (24, 'L'),\n",
       " (24, 'M'),\n",
       " (24, 'N'),\n",
       " (24, 'O'),\n",
       " (24, 'P'),\n",
       " (24, 'Q'),\n",
       " (24, 'R'),\n",
       " (24, 'S'),\n",
       " (24, 'T'),\n",
       " (24, 'U'),\n",
       " (24, 'V'),\n",
       " (24, 'W'),\n",
       " (24, 'X'),\n",
       " (25, 'A'),\n",
       " (25, 'B'),\n",
       " (25, 'C'),\n",
       " (25, 'D'),\n",
       " (25, 'E'),\n",
       " (25, 'F'),\n",
       " (25, 'G'),\n",
       " (25, 'H'),\n",
       " (25, 'I'),\n",
       " (25, 'J'),\n",
       " (25, 'K'),\n",
       " (25, 'L'),\n",
       " (25, 'M'),\n",
       " (25, 'N'),\n",
       " (25, 'O'),\n",
       " (25, 'P'),\n",
       " (25, 'Q'),\n",
       " (25, 'R'),\n",
       " (25, 'S'),\n",
       " (25, 'T'),\n",
       " (25, 'U'),\n",
       " (25, 'V'),\n",
       " (25, 'W'),\n",
       " (25, 'X'),\n",
       " (25, 'Y')]"
      ]
     },
     "execution_count": 50,
     "metadata": {},
     "output_type": "execute_result"
    }
   ],
   "source": [
    "[(i ,chr(j)) for i in range(1,26) for j in range(65,65+i)]"
   ]
  },
  {
   "cell_type": "code",
   "execution_count": 54,
   "id": "f390eecb",
   "metadata": {},
   "outputs": [
    {
     "name": "stdout",
     "output_type": "stream",
     "text": [
      "1\t2\t2\t3\t3\t3\t4\t4\t4\t4\t5\t5\t5\t5\t5\t6\t6\t6\t6\t6\t6\t7\t7\t7\t7\t7\t7\t7\t8\t8\t8\t8\t8\t8\t8\t8\t9\t9\t9\t9\t9\t9\t9\t9\t9\t10\t10\t10\t10\t10\t10\t10\t10\t10\t10\t11\t11\t11\t11\t11\t11\t11\t11\t11\t11\t11\t12\t12\t12\t12\t12\t12\t12\t12\t12\t12\t12\t12\t13\t13\t13\t13\t13\t13\t13\t13\t13\t13\t13\t13\t13\t14\t14\t14\t14\t14\t14\t14\t14\t14\t14\t14\t14\t14\t14\t15\t15\t15\t15\t15\t15\t15\t15\t15\t15\t15\t15\t15\t15\t15\t16\t16\t16\t16\t16\t16\t16\t16\t16\t16\t16\t16\t16\t16\t16\t16\t17\t17\t17\t17\t17\t17\t17\t17\t17\t17\t17\t17\t17\t17\t17\t17\t17\t18\t18\t18\t18\t18\t18\t18\t18\t18\t18\t18\t18\t18\t18\t18\t18\t18\t18\t19\t19\t19\t19\t19\t19\t19\t19\t19\t19\t19\t19\t19\t19\t19\t19\t19\t19\t19\t20\t20\t20\t20\t20\t20\t20\t20\t20\t20\t20\t20\t20\t20\t20\t20\t20\t20\t20\t20\t21\t21\t21\t21\t21\t21\t21\t21\t21\t21\t21\t21\t21\t21\t21\t21\t21\t21\t21\t21\t21\t22\t22\t22\t22\t22\t22\t22\t22\t22\t22\t22\t22\t22\t22\t22\t22\t22\t22\t22\t22\t22\t22\t23\t23\t23\t23\t23\t23\t23\t23\t23\t23\t23\t23\t23\t23\t23\t23\t23\t23\t23\t23\t23\t23\t23\t24\t24\t24\t24\t24\t24\t24\t24\t24\t24\t24\t24\t24\t24\t24\t24\t24\t24\t24\t24\t24\t24\t24\t24\t25\t25\t25\t25\t25\t25\t25\t25\t25\t25\t25\t25\t25\t25\t25\t25\t25\t25\t25\t25\t25\t25\t25\t25\t25\t"
     ]
    },
    {
     "data": {
      "text/plain": [
       "[None,\n",
       " None,\n",
       " None,\n",
       " None,\n",
       " None,\n",
       " None,\n",
       " None,\n",
       " None,\n",
       " None,\n",
       " None,\n",
       " None,\n",
       " None,\n",
       " None,\n",
       " None,\n",
       " None,\n",
       " None,\n",
       " None,\n",
       " None,\n",
       " None,\n",
       " None,\n",
       " None,\n",
       " None,\n",
       " None,\n",
       " None,\n",
       " None,\n",
       " None,\n",
       " None,\n",
       " None,\n",
       " None,\n",
       " None,\n",
       " None,\n",
       " None,\n",
       " None,\n",
       " None,\n",
       " None,\n",
       " None,\n",
       " None,\n",
       " None,\n",
       " None,\n",
       " None,\n",
       " None,\n",
       " None,\n",
       " None,\n",
       " None,\n",
       " None,\n",
       " None,\n",
       " None,\n",
       " None,\n",
       " None,\n",
       " None,\n",
       " None,\n",
       " None,\n",
       " None,\n",
       " None,\n",
       " None,\n",
       " None,\n",
       " None,\n",
       " None,\n",
       " None,\n",
       " None,\n",
       " None,\n",
       " None,\n",
       " None,\n",
       " None,\n",
       " None,\n",
       " None,\n",
       " None,\n",
       " None,\n",
       " None,\n",
       " None,\n",
       " None,\n",
       " None,\n",
       " None,\n",
       " None,\n",
       " None,\n",
       " None,\n",
       " None,\n",
       " None,\n",
       " None,\n",
       " None,\n",
       " None,\n",
       " None,\n",
       " None,\n",
       " None,\n",
       " None,\n",
       " None,\n",
       " None,\n",
       " None,\n",
       " None,\n",
       " None,\n",
       " None,\n",
       " None,\n",
       " None,\n",
       " None,\n",
       " None,\n",
       " None,\n",
       " None,\n",
       " None,\n",
       " None,\n",
       " None,\n",
       " None,\n",
       " None,\n",
       " None,\n",
       " None,\n",
       " None,\n",
       " None,\n",
       " None,\n",
       " None,\n",
       " None,\n",
       " None,\n",
       " None,\n",
       " None,\n",
       " None,\n",
       " None,\n",
       " None,\n",
       " None,\n",
       " None,\n",
       " None,\n",
       " None,\n",
       " None,\n",
       " None,\n",
       " None,\n",
       " None,\n",
       " None,\n",
       " None,\n",
       " None,\n",
       " None,\n",
       " None,\n",
       " None,\n",
       " None,\n",
       " None,\n",
       " None,\n",
       " None,\n",
       " None,\n",
       " None,\n",
       " None,\n",
       " None,\n",
       " None,\n",
       " None,\n",
       " None,\n",
       " None,\n",
       " None,\n",
       " None,\n",
       " None,\n",
       " None,\n",
       " None,\n",
       " None,\n",
       " None,\n",
       " None,\n",
       " None,\n",
       " None,\n",
       " None,\n",
       " None,\n",
       " None,\n",
       " None,\n",
       " None,\n",
       " None,\n",
       " None,\n",
       " None,\n",
       " None,\n",
       " None,\n",
       " None,\n",
       " None,\n",
       " None,\n",
       " None,\n",
       " None,\n",
       " None,\n",
       " None,\n",
       " None,\n",
       " None,\n",
       " None,\n",
       " None,\n",
       " None,\n",
       " None,\n",
       " None,\n",
       " None,\n",
       " None,\n",
       " None,\n",
       " None,\n",
       " None,\n",
       " None,\n",
       " None,\n",
       " None,\n",
       " None,\n",
       " None,\n",
       " None,\n",
       " None,\n",
       " None,\n",
       " None,\n",
       " None,\n",
       " None,\n",
       " None,\n",
       " None,\n",
       " None,\n",
       " None,\n",
       " None,\n",
       " None,\n",
       " None,\n",
       " None,\n",
       " None,\n",
       " None,\n",
       " None,\n",
       " None,\n",
       " None,\n",
       " None,\n",
       " None,\n",
       " None,\n",
       " None,\n",
       " None,\n",
       " None,\n",
       " None,\n",
       " None,\n",
       " None,\n",
       " None,\n",
       " None,\n",
       " None,\n",
       " None,\n",
       " None,\n",
       " None,\n",
       " None,\n",
       " None,\n",
       " None,\n",
       " None,\n",
       " None,\n",
       " None,\n",
       " None,\n",
       " None,\n",
       " None,\n",
       " None,\n",
       " None,\n",
       " None,\n",
       " None,\n",
       " None,\n",
       " None,\n",
       " None,\n",
       " None,\n",
       " None,\n",
       " None,\n",
       " None,\n",
       " None,\n",
       " None,\n",
       " None,\n",
       " None,\n",
       " None,\n",
       " None,\n",
       " None,\n",
       " None,\n",
       " None,\n",
       " None,\n",
       " None,\n",
       " None,\n",
       " None,\n",
       " None,\n",
       " None,\n",
       " None,\n",
       " None,\n",
       " None,\n",
       " None,\n",
       " None,\n",
       " None,\n",
       " None,\n",
       " None,\n",
       " None,\n",
       " None,\n",
       " None,\n",
       " None,\n",
       " None,\n",
       " None,\n",
       " None,\n",
       " None,\n",
       " None,\n",
       " None,\n",
       " None,\n",
       " None,\n",
       " None,\n",
       " None,\n",
       " None,\n",
       " None,\n",
       " None,\n",
       " None,\n",
       " None,\n",
       " None,\n",
       " None,\n",
       " None,\n",
       " None,\n",
       " None,\n",
       " None,\n",
       " None,\n",
       " None,\n",
       " None,\n",
       " None,\n",
       " None,\n",
       " None,\n",
       " None,\n",
       " None,\n",
       " None,\n",
       " None,\n",
       " None,\n",
       " None,\n",
       " None,\n",
       " None,\n",
       " None,\n",
       " None,\n",
       " None,\n",
       " None,\n",
       " None,\n",
       " None,\n",
       " None,\n",
       " None,\n",
       " None,\n",
       " None,\n",
       " None,\n",
       " None,\n",
       " None,\n",
       " None,\n",
       " None,\n",
       " None,\n",
       " None,\n",
       " None,\n",
       " None,\n",
       " None,\n",
       " None,\n",
       " None,\n",
       " None,\n",
       " None]"
      ]
     },
     "execution_count": 54,
     "metadata": {},
     "output_type": "execute_result"
    }
   ],
   "source": [
    "[print(i ,end='\\t') for i in range(1,26) for j in range(65,65+i)]"
   ]
  },
  {
   "cell_type": "code",
   "execution_count": 55,
   "id": "981a629f",
   "metadata": {},
   "outputs": [
    {
     "name": "stdout",
     "output_type": "stream",
     "text": [
      "1 2 3 4 5 6 21 34 56 "
     ]
    }
   ],
   "source": [
    "data=[[1,2,3],\n",
    "     [4,5,6],\n",
    "     [21,34,56]]\n",
    "for r in data:\n",
    "    for s in r:\n",
    "        print(s,end=' ')"
   ]
  },
  {
   "cell_type": "code",
   "execution_count": 58,
   "id": "5c5c8d78",
   "metadata": {},
   "outputs": [
    {
     "name": "stdout",
     "output_type": "stream",
     "text": [
      "1 \n",
      "2 \n",
      "3 \n",
      "4 \n",
      "5 \n",
      "6 \n",
      "21 \n",
      "34 \n",
      "56 \n"
     ]
    }
   ],
   "source": [
    "data=[[1,2,3],\n",
    "     [4,5,6],\n",
    "     [21,34,56]]\n",
    "for r in data:\n",
    "    for s in r:\n",
    "        print(s,end=' ')\n",
    "        print()"
   ]
  },
  {
   "cell_type": "code",
   "execution_count": 60,
   "id": "327e678c",
   "metadata": {},
   "outputs": [
    {
     "name": "stdout",
     "output_type": "stream",
     "text": [
      "1 2 3 \n",
      "4 5 6 \n",
      "21 34 56 \n"
     ]
    }
   ],
   "source": [
    "data=[[1,2,3],\n",
    "     [4,5,6],\n",
    "     [21,34,56]]\n",
    "for r in data:\n",
    "    for s in r:\n",
    "        print(s,end=' ')\n",
    "    print()"
   ]
  },
  {
   "cell_type": "code",
   "execution_count": 62,
   "id": "4e2ebdba",
   "metadata": {},
   "outputs": [
    {
     "name": "stdout",
     "output_type": "stream",
     "text": [
      "1\n",
      "2\n",
      "3\n",
      "\n",
      "4\n",
      "5\n",
      "6\n",
      "\n",
      "21\n",
      "34\n",
      "56\n",
      "\n"
     ]
    }
   ],
   "source": [
    "data=[[1,2,3],\n",
    "     [4,5,6],\n",
    "     [21,34,56]]\n",
    "for r in data:\n",
    "    for s in r:\n",
    "        print(s)\n",
    "    print() #seperate row values"
   ]
  },
  {
   "cell_type": "code",
   "execution_count": 4,
   "id": "bcbab9b2",
   "metadata": {},
   "outputs": [
    {
     "name": "stdout",
     "output_type": "stream",
     "text": [
      "0 humanity\n",
      "1 humanity\n",
      "2 humanity\n",
      "3 humanity\n",
      "4 humanity\n",
      "5 humanity\n",
      "6 humanity\n",
      "7 humanity\n",
      "8 humanity\n",
      "9 humanity\n",
      "10 humanity\n"
     ]
    }
   ],
   "source": [
    "a=0\n",
    "while a<=10:\n",
    "    print(a,'humanity')\n",
    "    a+=1"
   ]
  },
  {
   "cell_type": "code",
   "execution_count": 1,
   "id": "c8e4def3",
   "metadata": {},
   "outputs": [
    {
     "name": "stdout",
     "output_type": "stream",
     "text": [
      "1 humanity\n",
      "2 humanity\n",
      "3 humanity\n",
      "4 humanity\n",
      "6 humanity\n",
      "7 humanity\n",
      "8 humanity\n",
      "9 humanity\n",
      "10 humanity\n",
      "11 humanity\n"
     ]
    }
   ],
   "source": [
    "a=0\n",
    "while a<=10:\n",
    "    a+=1\n",
    "    if a==5:\n",
    "        continue\n",
    "    print(a,'humanity')\n",
    "   # continue skip thr value"
   ]
  },
  {
   "cell_type": "code",
   "execution_count": null,
   "id": "07bb5372",
   "metadata": {},
   "outputs": [
    {
     "name": "stdout",
     "output_type": "stream",
     "text": [
      "0 humanity\n",
      "1 humanity\n",
      "2 humanity\n",
      "3 humanity\n",
      "4 humanity\n"
     ]
    }
   ],
   "source": [
    "a=0\n",
    "while a<=10:\n",
    "   \n",
    "    if a==5:\n",
    "        continue\n",
    "    print(a,'humanity')\n",
    "    a+=1   #increment\n",
    "   "
   ]
  },
  {
   "cell_type": "code",
   "execution_count": 2,
   "id": "e6655587",
   "metadata": {},
   "outputs": [
    {
     "name": "stdout",
     "output_type": "stream",
     "text": [
      "humanity\n"
     ]
    }
   ],
   "source": [
    "if True:\n",
    "    print('humanity')"
   ]
  },
  {
   "cell_type": "code",
   "execution_count": 3,
   "id": "bfc2ecec",
   "metadata": {},
   "outputs": [
    {
     "name": "stdout",
     "output_type": "stream",
     "text": [
      "humanity\n"
     ]
    }
   ],
   "source": [
    "if True:\n",
    "    pass\n",
    "    print('humanity')\n",
    "    "
   ]
  },
  {
   "cell_type": "code",
   "execution_count": 4,
   "id": "5fd298b5",
   "metadata": {},
   "outputs": [
    {
     "ename": "SyntaxError",
     "evalue": "unexpected EOF while parsing (<ipython-input-4-2c8a33b52dfb>, line 1)",
     "output_type": "error",
     "traceback": [
      "\u001b[1;36m  File \u001b[1;32m\"<ipython-input-4-2c8a33b52dfb>\"\u001b[1;36m, line \u001b[1;32m1\u001b[0m\n\u001b[1;33m    if True:\u001b[0m\n\u001b[1;37m            ^\u001b[0m\n\u001b[1;31mSyntaxError\u001b[0m\u001b[1;31m:\u001b[0m unexpected EOF while parsing\n"
     ]
    }
   ],
   "source": [
    "if True:"
   ]
  },
  {
   "cell_type": "code",
   "execution_count": 6,
   "id": "26bab85a",
   "metadata": {},
   "outputs": [],
   "source": [
    "if True:\n",
    "    pass    # pass prevents error generation "
   ]
  },
  {
   "cell_type": "code",
   "execution_count": 8,
   "id": "3e2e18c3",
   "metadata": {},
   "outputs": [
    {
     "ename": "SyntaxError",
     "evalue": "unexpected EOF while parsing (<ipython-input-8-66d7c348892b>, line 2)",
     "output_type": "error",
     "traceback": [
      "\u001b[1;36m  File \u001b[1;32m\"<ipython-input-8-66d7c348892b>\"\u001b[1;36m, line \u001b[1;32m2\u001b[0m\n\u001b[1;33m    \u001b[0m\n\u001b[1;37m    ^\u001b[0m\n\u001b[1;31mSyntaxError\u001b[0m\u001b[1;31m:\u001b[0m unexpected EOF while parsing\n"
     ]
    }
   ],
   "source": [
    "for i in range(1,11):\n",
    "    "
   ]
  },
  {
   "cell_type": "code",
   "execution_count": 10,
   "id": "ffed3309",
   "metadata": {},
   "outputs": [],
   "source": [
    "for i in range (1,11):\n",
    "    pass   #pass prevents error genetation "
   ]
  },
  {
   "cell_type": "markdown",
   "id": "3d5539bc",
   "metadata": {},
   "source": [
    "# Functions"
   ]
  },
  {
   "cell_type": "code",
   "execution_count": null,
   "id": "d011ac2b",
   "metadata": {},
   "outputs": [],
   "source": [
    "# function ==> sets of instructions that used to stop reparation of codes \n",
    "\n",
    "# pre-defined functions\n",
    "# user defined functions\n",
    "\n",
    "# functions sub types \n",
    "*#return\n",
    "*#non return\n",
    "*required arguments\n",
    "*optional arguments\n",
    "*default functions\n",
    "\n"
   ]
  },
  {
   "cell_type": "markdown",
   "id": "0189d468",
   "metadata": {},
   "source": [
    "# Attendence"
   ]
  },
  {
   "cell_type": "code",
   "execution_count": null,
   "id": "2f5a0985",
   "metadata": {},
   "outputs": [],
   "source": [
    "import re\n",
    "with open('path of file') as f:\n",
    "    l=f.readlines()\n",
    "    attendence=[]\n",
    "    for row in l:\n",
    "        a = re.findall(r'[0-9]{5,6}\\b',row)\n",
    "        if len(a)>=1 and a[0] not in attendence:\n",
    "            attendence.append(a[0])\n",
    "print(len(attendence))\n",
    "attendence"
   ]
  },
  {
   "cell_type": "code",
   "execution_count": 4,
   "id": "5d39bc98",
   "metadata": {},
   "outputs": [
    {
     "data": {
      "text/plain": [
       "'humanity \\\\n'"
      ]
     },
     "execution_count": 4,
     "metadata": {},
     "output_type": "execute_result"
    }
   ],
   "source": [
    "r'humanity \\n'      #r tell read the function as it"
   ]
  },
  {
   "cell_type": "code",
   "execution_count": 2,
   "id": "f25832c4",
   "metadata": {},
   "outputs": [
    {
     "data": {
      "text/plain": [
       "['acx', 'ghy', 'ncjn', 'n', 'sdjh', 'u', 'cjd']"
      ]
     },
     "execution_count": 2,
     "metadata": {},
     "output_type": "execute_result"
    }
   ],
   "source": [
    "import re\n",
    "txt='acx 23451 ghy 637829  ncjn 638887n  sdjh 878764u cjd 76276'\n",
    "\n",
    "re.findall(r\"[a-z]{1,9}\",txt)"
   ]
  },
  {
   "cell_type": "code",
   "execution_count": 3,
   "id": "5af54def",
   "metadata": {},
   "outputs": [
    {
     "data": {
      "text/plain": [
       "['23451', '637829', '638887', '878764', '76276']"
      ]
     },
     "execution_count": 3,
     "metadata": {},
     "output_type": "execute_result"
    }
   ],
   "source": [
    "txt='acx 23451 ghy 637829  ncjn 638887n  sdjh 878764u cjd 76276'\n",
    "\n",
    "re.findall(r\"[0-9]{5,6}\",txt)"
   ]
  },
  {
   "cell_type": "code",
   "execution_count": 4,
   "id": "18e96045",
   "metadata": {},
   "outputs": [
    {
     "data": {
      "text/plain": [
       "['23451', '637829', '638887', '878764', '76276']"
      ]
     },
     "execution_count": 4,
     "metadata": {},
     "output_type": "execute_result"
    }
   ],
   "source": [
    "txt='acx 23451 ghy 637829  ncjn 638887n  sdjh 878764u cjd 76276xyz'\n",
    "\n",
    "re.findall(r\"[0-9]{5,6}\",txt)"
   ]
  },
  {
   "cell_type": "code",
   "execution_count": null,
   "id": "9c8f32c5",
   "metadata": {},
   "outputs": [],
   "source": []
  }
 ],
 "metadata": {
  "kernelspec": {
   "display_name": "Python 3",
   "language": "python",
   "name": "python3"
  },
  "language_info": {
   "codemirror_mode": {
    "name": "ipython",
    "version": 3
   },
   "file_extension": ".py",
   "mimetype": "text/x-python",
   "name": "python",
   "nbconvert_exporter": "python",
   "pygments_lexer": "ipython3",
   "version": "3.8.8"
  }
 },
 "nbformat": 4,
 "nbformat_minor": 5
}
