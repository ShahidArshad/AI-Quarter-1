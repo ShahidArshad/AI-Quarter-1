{
 "cells": [
  {
   "cell_type": "markdown",
   "id": "36785ed3",
   "metadata": {},
   "source": [
    "#method\n",
    "#attributes"
   ]
  },
  {
   "cell_type": "markdown",
   "id": "629e5ab1",
   "metadata": {},
   "source": [
    "# Linear Programming"
   ]
  },
  {
   "cell_type": "code",
   "execution_count": 1,
   "id": "b04231b6",
   "metadata": {},
   "outputs": [],
   "source": [
    "name=\"shahid\"\n",
    "fname=\"arshad\"\n",
    "education=\"msc chemistry\"\n",
    "\n",
    "\n",
    "def shahid_speak():pass\n",
    "def shahid_eat():pass\n",
    "def shahid_sleep():pass\n",
    "\n",
    "name=\"saif\"\n",
    "fname=\"arshad\"\n",
    "education=\"DAE\"\n",
    "\n",
    "\n",
    "def shahid_speak():pass\n",
    "def shahid_eat():pass\n",
    "def shahid_sleep():pass\n",
    "\n",
    "name=\"talha\"\n",
    "fname=\"talib\"\n",
    "education=\"none\"\n",
    "\n",
    "\n",
    "def shahid_speak():pass\n",
    "def shahid_eat():pass\n",
    "def shahid_sleep():pass\n",
    "\n",
    "name=\"haider\"\n",
    "fname=\"talib\"\n",
    "education=\"none\"\n",
    "\n",
    "\n",
    "def shahid_speak():pass\n",
    "def shahid_eat():pass\n",
    "def shahid_sleep():pass\n",
    "    "
   ]
  },
  {
   "cell_type": "markdown",
   "id": "accf1d41",
   "metadata": {},
   "source": [
    "# Class \n",
    ">>*blue print/model/structure/template\n",
    "*Capatalize each word (ClassName),    class Class():pass\n",
    ">>*constructor(method or function)\n",
    "      ==>always start when we create a new bject\n",
    " *python\n",
    "      ==>def__init__(self):pass\n",
    "      ==>first argument should be any name\n",
    "         ..self\n",
    "         ..this\n",
    "         ..abc\n",
    "         ..xyz\n",
    "      ==>all attribute should be written in constructor body\n",
    "      ==>self.attribute_name (within a class)\n",
    ">>*destructor(method or function)\n",
    "    ==>always call when we delete object\n",
    "    old programming languages \n",
    "     ..same function name as  class\n",
    " *Method\n",
    " *Attribute\n",
    " *class variable"
   ]
  },
  {
   "cell_type": "markdown",
   "id": "7ca7dfbe",
   "metadata": {},
   "source": [
    "# oop \n",
    "#==>compress code\n",
    "#==>less computing power/less storage usage\n",
    "#==>code managment too much easy"
   ]
  },
  {
   "cell_type": "code",
   "execution_count": 6,
   "id": "6c7cee7b",
   "metadata": {},
   "outputs": [],
   "source": [
    "class Student():    \n",
    "    #==> class name start with capital letter,constructor(always call when we create new object)\n",
    "    def __init__(self,sid,sname):    #constructor method\n",
    "#  self.attribute_name=constructor_local_variable\n",
    "        self.id = sid\n",
    "        self.name=sname    #atribute\n",
    "        self.education=None #attribute\n",
    "        self.address=None   #attribute\n",
    "        self.age=None       #attribute\n",
    "        self.user=sname\n",
    "        self.password='123'\n",
    "        \n",
    "    def login(self,usr,pws):          #method\n",
    "        if self.user==usr and self.password ==pws:\n",
    "            return \"valid user\"\n",
    "        else:\n",
    "            return \"not valid user\"\n",
    "    def display_information(self):     #method\n",
    "        cards =f\"\"\"student card\n",
    "        Registration number:{self.id}\n",
    "        Name:{self.name}\n",
    "        Education:{self.education}\"\"\"\n",
    "        \n",
    "        return cards    \n",
    "    #method and attribute\n",
    "    #class and object"
   ]
  },
  {
   "cell_type": "code",
   "execution_count": 7,
   "id": "106cdcbe",
   "metadata": {},
   "outputs": [],
   "source": [
    "#ClassName(arg1,arg2,....) we ignore self argument calling time\n",
    "s1 =Student(1,\"shahid\")   \n",
    "s2=Student(2,\"ali\")\n",
    "s3=Student(3,\"hamza\")\n",
    "#s1,s2,s3 objects(s1,s2,s3 also instance of Student class)\n"
   ]
  },
  {
   "cell_type": "code",
   "execution_count": 8,
   "id": "ca632e66",
   "metadata": {},
   "outputs": [
    {
     "name": "stdout",
     "output_type": "stream",
     "text": [
      "shahid\n",
      "ali\n",
      "hamza\n",
      "shahid 1\n",
      "ali 2\n",
      "hamza 3\n"
     ]
    }
   ],
   "source": [
    "print(s1.name)\n",
    "print(s2.name)\n",
    "print(s3.name)\n",
    "\n",
    "print(s1.name,s1.id)\n",
    "print(s2.name,s2.id)\n",
    "print(s3.name,s3.id)"
   ]
  },
  {
   "cell_type": "code",
   "execution_count": 9,
   "id": "a2dd0dfa",
   "metadata": {},
   "outputs": [
    {
     "data": {
      "text/plain": [
       "'valid user'"
      ]
     },
     "execution_count": 9,
     "metadata": {},
     "output_type": "execute_result"
    }
   ],
   "source": [
    "s1.login(\"shahid\",\"123\")"
   ]
  },
  {
   "cell_type": "code",
   "execution_count": 10,
   "id": "150c77c6",
   "metadata": {},
   "outputs": [
    {
     "data": {
      "text/plain": [
       "'not valid user'"
      ]
     },
     "execution_count": 10,
     "metadata": {},
     "output_type": "execute_result"
    }
   ],
   "source": [
    "s1.login(\"shahid\",\"1232\")"
   ]
  },
  {
   "cell_type": "code",
   "execution_count": 11,
   "id": "cfd0af3e",
   "metadata": {},
   "outputs": [
    {
     "name": "stdout",
     "output_type": "stream",
     "text": [
      "student card\n",
      "        Registration number:1\n",
      "        Name:shahid\n",
      "        Education:None\n"
     ]
    }
   ],
   "source": [
    "print(s1.display_information())"
   ]
  },
  {
   "cell_type": "code",
   "execution_count": 12,
   "id": "a378523a",
   "metadata": {},
   "outputs": [],
   "source": [
    "s1.education = \"Msc\""
   ]
  },
  {
   "cell_type": "code",
   "execution_count": 13,
   "id": "fad31f9d",
   "metadata": {},
   "outputs": [
    {
     "name": "stdout",
     "output_type": "stream",
     "text": [
      "student card\n",
      "        Registration number:1\n",
      "        Name:shahid\n",
      "        Education:Msc\n"
     ]
    }
   ],
   "source": [
    "print(s1.display_information())"
   ]
  },
  {
   "cell_type": "code",
   "execution_count": 27,
   "id": "b197311d",
   "metadata": {},
   "outputs": [
    {
     "data": {
      "text/plain": [
       "['__class__',\n",
       " '__delattr__',\n",
       " '__dict__',\n",
       " '__dir__',\n",
       " '__doc__',\n",
       " '__eq__',\n",
       " '__format__',\n",
       " '__ge__',\n",
       " '__getattribute__',\n",
       " '__gt__',\n",
       " '__hash__',\n",
       " '__init__',\n",
       " '__init_subclass__',\n",
       " '__le__',\n",
       " '__lt__',\n",
       " '__module__',\n",
       " '__ne__',\n",
       " '__new__',\n",
       " '__reduce__',\n",
       " '__reduce_ex__',\n",
       " '__repr__',\n",
       " '__setattr__',\n",
       " '__sizeof__',\n",
       " '__str__',\n",
       " '__subclasshook__',\n",
       " '__weakref__',\n",
       " 'address',\n",
       " 'age',\n",
       " 'display_information',\n",
       " 'education',\n",
       " 'id',\n",
       " 'login',\n",
       " 'name',\n",
       " 'password',\n",
       " 'user']"
      ]
     },
     "execution_count": 27,
     "metadata": {},
     "output_type": "execute_result"
    }
   ],
   "source": [
    "dir(s1)"
   ]
  },
  {
   "cell_type": "code",
   "execution_count": 29,
   "id": "46121567",
   "metadata": {},
   "outputs": [
    {
     "data": {
      "text/plain": [
       "['address', 'age', 'education', 'id', 'login', 'name', 'password', 'user']"
      ]
     },
     "execution_count": 29,
     "metadata": {},
     "output_type": "execute_result"
    }
   ],
   "source": [
    "[i for i in dir(s1) if \"_\" not in i]    #list comprehensive style(code in one line)"
   ]
  },
  {
   "cell_type": "code",
   "execution_count": 14,
   "id": "0374d779",
   "metadata": {},
   "outputs": [
    {
     "name": "stdout",
     "output_type": "stream",
     "text": [
      "['address', 'age', 'education', 'id', 'login', 'name', 'password', 'user']\n",
      "['address', 'age', 'education', 'id', 'login', 'name', 'password', 'user']\n",
      "['address', 'age', 'education', 'id', 'login', 'name', 'password', 'user']\n"
     ]
    }
   ],
   "source": [
    "print([i for i in dir(s1) if \"_\" not in i])\n",
    "print([i for i in dir(s2) if \"_\" not in i])\n",
    "print([i for i in dir(s3) if \"_\" not in i])"
   ]
  },
  {
   "cell_type": "code",
   "execution_count": 30,
   "id": "1cb07a05",
   "metadata": {},
   "outputs": [
    {
     "data": {
      "text/plain": [
       "['__class__',\n",
       " '__delattr__',\n",
       " '__dict__',\n",
       " '__dir__',\n",
       " '__doc__',\n",
       " '__eq__',\n",
       " '__format__',\n",
       " '__ge__',\n",
       " '__getattribute__',\n",
       " '__gt__',\n",
       " '__hash__',\n",
       " '__init__',\n",
       " '__init_subclass__',\n",
       " '__le__',\n",
       " '__lt__',\n",
       " '__module__',\n",
       " '__ne__',\n",
       " '__new__',\n",
       " '__reduce__',\n",
       " '__reduce_ex__',\n",
       " '__repr__',\n",
       " '__setattr__',\n",
       " '__sizeof__',\n",
       " '__str__',\n",
       " '__subclasshook__',\n",
       " '__weakref__',\n",
       " 'display_information',\n",
       " 'login']"
      ]
     },
     "execution_count": 30,
     "metadata": {},
     "output_type": "execute_result"
    }
   ],
   "source": [
    "dir(Student)"
   ]
  },
  {
   "cell_type": "code",
   "execution_count": 15,
   "id": "f740200a",
   "metadata": {},
   "outputs": [],
   "source": [
    "s1.password = \"xyz123\""
   ]
  },
  {
   "cell_type": "code",
   "execution_count": 16,
   "id": "9614244e",
   "metadata": {},
   "outputs": [
    {
     "name": "stdout",
     "output_type": "stream",
     "text": [
      "xyz123\n"
     ]
    }
   ],
   "source": [
    "print(s1.password)"
   ]
  },
  {
   "cell_type": "markdown",
   "id": "ff852077",
   "metadata": {},
   "source": [
    "# Class Variable\n",
    "#always create in the class body\n",
    "#calling ClassName.variable_name"
   ]
  },
  {
   "cell_type": "code",
   "execution_count": 28,
   "id": "31269231",
   "metadata": {},
   "outputs": [],
   "source": [
    "class Student():    \n",
    "    counter = 0\n",
    "    subject = \"artificial intelligence\"\n",
    "    time=\"11:15 am\"\n",
    "    def __init__(self,sid,sname):    \n",
    "\n",
    "        self.id = sid\n",
    "        self.name=sname    #atribute\n",
    "        self.education=None #attribute\n",
    "        self.address=None   #attribute\n",
    "        self.age=None       #attribute\n",
    "        self.user=sname\n",
    "        self.password='123'\n",
    "        Student.counter +=1    #calling class variable\n",
    "    def login(self,usr,pws):          #method\n",
    "        if self.user==usr and self.password ==pws:\n",
    "            return \"valid user\"\n",
    "        else:\n",
    "            return \"not valid user\"\n",
    "    def display_information(self):     #method\n",
    "        cards =f\"\"\"student card\n",
    "        Registration number:{self.id}\n",
    "        Name:{self.name}\n",
    "        Education:{self.education}\"\"\"\n",
    "        \n",
    "        return cards    "
   ]
  },
  {
   "cell_type": "code",
   "execution_count": 29,
   "id": "8c8be2eb",
   "metadata": {},
   "outputs": [
    {
     "name": "stdout",
     "output_type": "stream",
     "text": [
      "1 1 artificial intelligence\n",
      "2 2 artificial intelligence\n",
      "3 3 artificial intelligence\n"
     ]
    }
   ],
   "source": [
    "s1=Student(1,\"shahid\")    #create s1 new object\n",
    "print(Student.counter,s1.counter,Student.subject)\n",
    "s2=Student(2,\"hamza\")     #create s2 new object\n",
    "print(Student.counter,s1.counter,Student.subject)\n",
    "s3=Student(3,\"hassan\")    #create s3 new object\n",
    "print(Student.counter,s1.counter,Student.subject)"
   ]
  },
  {
   "cell_type": "code",
   "execution_count": 30,
   "id": "c068cd48",
   "metadata": {},
   "outputs": [
    {
     "name": "stdout",
     "output_type": "stream",
     "text": [
      "3\n",
      "3\n",
      "3\n",
      "3\n",
      "artificial intelligence\n",
      "11:15 am\n"
     ]
    }
   ],
   "source": [
    "print(s1.counter)\n",
    "print(s1.counter)\n",
    "print(s1.counter)\n",
    "\n",
    "print(Student.counter)\n",
    "print(Student.subject)\n",
    "print(Student.time)"
   ]
  },
  {
   "cell_type": "code",
   "execution_count": null,
   "id": "a05eba22",
   "metadata": {},
   "outputs": [],
   "source": []
  }
 ],
 "metadata": {
  "kernelspec": {
   "display_name": "Python 3",
   "language": "python",
   "name": "python3"
  },
  "language_info": {
   "codemirror_mode": {
    "name": "ipython",
    "version": 3
   },
   "file_extension": ".py",
   "mimetype": "text/x-python",
   "name": "python",
   "nbconvert_exporter": "python",
   "pygments_lexer": "ipython3",
   "version": "3.8.8"
  }
 },
 "nbformat": 4,
 "nbformat_minor": 5
}
