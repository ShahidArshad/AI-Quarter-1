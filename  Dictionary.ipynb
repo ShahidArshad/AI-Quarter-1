{
 "cells": [
  {
   "cell_type": "code",
   "execution_count": 1,
   "id": "e9e6e536",
   "metadata": {},
   "outputs": [
    {
     "data": {
      "text/plain": [
       "['saif', 'ali', 'amad', 'zoaib', 'AI']"
      ]
     },
     "execution_count": 1,
     "metadata": {},
     "output_type": "execute_result"
    }
   ],
   "source": [
    "['saif','ali','amad','zoaib','AI']"
   ]
  },
  {
   "cell_type": "markdown",
   "id": "6bae5b94",
   "metadata": {},
   "source": [
    "how to access value from dictinary  \n",
    " \n",
    "#dictname['key name']"
   ]
  },
  {
   "cell_type": "code",
   "execution_count": 16,
   "id": "52fbdf32",
   "metadata": {},
   "outputs": [],
   "source": [
    "data={\n",
    "    'name':'saif',\n",
    "    'fname':'arshad',\n",
    "    'age':'21',\n",
    "    'qualification':'DAE',\n",
    "    'slills' :[\"drawing\",\"painting\",'travelling'],\n",
    "    0:\"layya\"\n",
    "}"
   ]
  },
  {
   "cell_type": "code",
   "execution_count": 17,
   "id": "31ec2fd5",
   "metadata": {},
   "outputs": [
    {
     "data": {
      "text/plain": [
       "'saif'"
      ]
     },
     "execution_count": 17,
     "metadata": {},
     "output_type": "execute_result"
    }
   ],
   "source": [
    "data['name']"
   ]
  },
  {
   "cell_type": "code",
   "execution_count": 18,
   "id": "03cc06cb",
   "metadata": {},
   "outputs": [
    {
     "data": {
      "text/plain": [
       "'layya'"
      ]
     },
     "execution_count": 18,
     "metadata": {},
     "output_type": "execute_result"
    }
   ],
   "source": [
    "data[0]"
   ]
  },
  {
   "cell_type": "code",
   "execution_count": 12,
   "id": "9be85958",
   "metadata": {},
   "outputs": [
    {
     "data": {
      "text/plain": [
       "21"
      ]
     },
     "execution_count": 12,
     "metadata": {},
     "output_type": "execute_result"
    }
   ],
   "source": [
    "data ={\n",
    "    'name':'saif',\n",
    "    'fname':'arshad',\n",
    "    'age':  21,\n",
    "    'qualification':'DAE',\n",
    "    'skills':['ML','derawing','arts'],\n",
    "     0:\"Pakistani\"\n",
    "} \n",
    "    \n",
    "data['age']"
   ]
  },
  {
   "cell_type": "code",
   "execution_count": 24,
   "id": "2b5df93d",
   "metadata": {},
   "outputs": [],
   "source": [
    "import pandas as pd\n"
   ]
  },
  {
   "cell_type": "code",
   "execution_count": 26,
   "id": "d2468396",
   "metadata": {},
   "outputs": [
    {
     "name": "stdout",
     "output_type": "stream",
     "text": [
      "{'name': 'saaif', 'fname': 'arshad', 'age': '21', 'qualification': 'DAE'}\n",
      "{'name': 'saaif', 'fname': 'arshad', 'age': '21', 'qualification': 'DAE'}\n"
     ]
    }
   ],
   "source": [
    "data={\n",
    "    'name':'saif',\n",
    "    'fname':'arshad',\n",
    "    'age':'21',\n",
    "    'qualification':'DAE',\n",
    "     }\n",
    "data1=data \n",
    "data1['name']='saaif'\n",
    "print(data)\n",
    "print(data1)"
   ]
  },
  {
   "cell_type": "code",
   "execution_count": 17,
   "id": "15511b93",
   "metadata": {},
   "outputs": [
    {
     "data": {
      "text/plain": [
       "{'name': 'saif',\n",
       " 'fname': 'arshad',\n",
       " 'age': 21,\n",
       " 'qualification': 'DAE',\n",
       " 'skills': ['ML', 'derawing', 'arts'],\n",
       " 'courses': ['matric', 'DAE', 'Short course']}"
      ]
     },
     "execution_count": 17,
     "metadata": {},
     "output_type": "execute_result"
    }
   ],
   "source": [
    "data ={\n",
    "    'name':'saif',\n",
    "    'fname':'arshad',\n",
    "    'age':  21,\n",
    "    'qualification':'DAE',\n",
    "    'skills':['ML','derawing','arts'],\n",
    "    'courses':['matric','DAE','Short course'],\n",
    "}\n",
    "data"
   ]
  },
  {
   "cell_type": "code",
   "execution_count": 18,
   "id": "9d654f85",
   "metadata": {},
   "outputs": [
    {
     "data": {
      "text/html": [
       "<div>\n",
       "<style scoped>\n",
       "    .dataframe tbody tr th:only-of-type {\n",
       "        vertical-align: middle;\n",
       "    }\n",
       "\n",
       "    .dataframe tbody tr th {\n",
       "        vertical-align: top;\n",
       "    }\n",
       "\n",
       "    .dataframe thead th {\n",
       "        text-align: right;\n",
       "    }\n",
       "</style>\n",
       "<table border=\"1\" class=\"dataframe\">\n",
       "  <thead>\n",
       "    <tr style=\"text-align: right;\">\n",
       "      <th></th>\n",
       "      <th>name</th>\n",
       "      <th>fname</th>\n",
       "      <th>age</th>\n",
       "      <th>qualification</th>\n",
       "      <th>skills</th>\n",
       "      <th>courses</th>\n",
       "    </tr>\n",
       "  </thead>\n",
       "  <tbody>\n",
       "    <tr>\n",
       "      <th>0</th>\n",
       "      <td>saif</td>\n",
       "      <td>arshad</td>\n",
       "      <td>21</td>\n",
       "      <td>DAE</td>\n",
       "      <td>ML</td>\n",
       "      <td>matric</td>\n",
       "    </tr>\n",
       "    <tr>\n",
       "      <th>1</th>\n",
       "      <td>saif</td>\n",
       "      <td>arshad</td>\n",
       "      <td>21</td>\n",
       "      <td>DAE</td>\n",
       "      <td>derawing</td>\n",
       "      <td>DAE</td>\n",
       "    </tr>\n",
       "    <tr>\n",
       "      <th>2</th>\n",
       "      <td>saif</td>\n",
       "      <td>arshad</td>\n",
       "      <td>21</td>\n",
       "      <td>DAE</td>\n",
       "      <td>arts</td>\n",
       "      <td>Short course</td>\n",
       "    </tr>\n",
       "  </tbody>\n",
       "</table>\n",
       "</div>"
      ],
      "text/plain": [
       "   name   fname  age qualification    skills       courses\n",
       "0  saif  arshad   21           DAE        ML        matric\n",
       "1  saif  arshad   21           DAE  derawing           DAE\n",
       "2  saif  arshad   21           DAE      arts  Short course"
      ]
     },
     "execution_count": 18,
     "metadata": {},
     "output_type": "execute_result"
    }
   ],
   "source": [
    "import pandas as pd \n",
    "df= pd.DataFrame(data)\n",
    "df"
   ]
  },
  {
   "cell_type": "code",
   "execution_count": 20,
   "id": "dfbea5c5",
   "metadata": {},
   "outputs": [
    {
     "data": {
      "text/plain": [
       "{'name': 'Shahid', 'fname': 'arshad', 'course': 'PIAIC data science'}"
      ]
     },
     "execution_count": 20,
     "metadata": {},
     "output_type": "execute_result"
    }
   ],
   "source": [
    "data={}\n",
    "data['name']='Shahid'\n",
    "data['fname']=\"arshad\"\n",
    "data[\"course\"]='PIAIC data science'\n",
    "data\n"
   ]
  },
  {
   "cell_type": "code",
   "execution_count": 29,
   "id": "7f123f1b",
   "metadata": {},
   "outputs": [
    {
     "data": {
      "text/plain": [
       "{'name': 'Shahid AI student',\n",
       " 'fname': 'arshad',\n",
       " 'course': 'PIAIC data science'}"
      ]
     },
     "execution_count": 29,
     "metadata": {},
     "output_type": "execute_result"
    }
   ],
   "source": [
    "data={}\n",
    "data['name']='Shahid'\n",
    "data['fname']=\"arshad\"\n",
    "data[\"course\"]='PIAIC data science'\n",
    "data['name']=data['name']+' AI student'\n",
    "data\n"
   ]
  },
  {
   "cell_type": "code",
   "execution_count": 25,
   "id": "2720173a",
   "metadata": {},
   "outputs": [
    {
     "data": {
      "text/plain": [
       "'PIAIC data science'"
      ]
     },
     "execution_count": 25,
     "metadata": {},
     "output_type": "execute_result"
    }
   ],
   "source": [
    "data[\"course\"]"
   ]
  },
  {
   "cell_type": "code",
   "execution_count": 31,
   "id": "6d497032",
   "metadata": {},
   "outputs": [
    {
     "name": "stdout",
     "output_type": "stream",
     "text": [
      "{'name': 'Shahid AI student', 'fname': 'arshad', 'course': 'PIAIC data science'}\n",
      "{}\n"
     ]
    }
   ],
   "source": [
    "data={}\n",
    "data['name']='Shahid'\n",
    "data['fname']=\"arshad\"\n",
    "data[\"course\"]='PIAIC data science'\n",
    "data['name']=data['name']+' AI student'\n",
    "print(data)\n",
    "data.clear()\n",
    "print(data)"
   ]
  },
  {
   "cell_type": "code",
   "execution_count": 34,
   "id": "ee648ff0",
   "metadata": {},
   "outputs": [
    {
     "name": "stdout",
     "output_type": "stream",
     "text": [
      "{'name': 'saif', 'fname': 'arshad', 'age': 21, 'qualification': 'DAE', 'skills': ['ML', 'derawing', 'arts']}\n",
      "{'name': 'shahid', 'fname': 'arshad', 'age': 21, 'qualification': 'DAE', 'skills': ['ML', 'derawing', 'arts']}\n"
     ]
    }
   ],
   "source": [
    "data ={\n",
    "    'name':'saif',\n",
    "    'fname':'arshad',\n",
    "    'age':  21,\n",
    "    'qualification':'DAE',\n",
    "    'skills':['ML','derawing','arts'],\n",
    "     \n",
    "} \n",
    "data1 = data.copy()\n",
    "data1['name']='shahid'\n",
    "print(data)\n",
    "print(data1)"
   ]
  },
  {
   "cell_type": "code",
   "execution_count": 2,
   "id": "3a6d3a78",
   "metadata": {},
   "outputs": [
    {
     "data": {
      "text/plain": [
       "{'id': None,\n",
       " 'name': None,\n",
       " 'fname': None,\n",
       " 'course': None,\n",
       " 'timing': None,\n",
       " 'adress': None}"
      ]
     },
     "execution_count": 2,
     "metadata": {},
     "output_type": "execute_result"
    }
   ],
   "source": [
    "keys = ['id','name','fname','course','timing','adress']\n",
    "dict.fromkeys(keys)"
   ]
  },
  {
   "cell_type": "code",
   "execution_count": 3,
   "id": "71fced64",
   "metadata": {},
   "outputs": [
    {
     "data": {
      "text/plain": [
       "{'id': 'empty', 'name': 'empty', 'fname': 'empty'}"
      ]
     },
     "execution_count": 3,
     "metadata": {},
     "output_type": "execute_result"
    }
   ],
   "source": [
    "keys = ['id' ,'name','fname']\n",
    "dict.fromkeys(keys,'empty')"
   ]
  },
  {
   "cell_type": "code",
   "execution_count": 4,
   "id": "8259230b",
   "metadata": {},
   "outputs": [
    {
     "data": {
      "text/plain": [
       "'saif'"
      ]
     },
     "execution_count": 4,
     "metadata": {},
     "output_type": "execute_result"
    }
   ],
   "source": [
    "data ={\n",
    "    'name':'saif',\n",
    "    'fname':'arshad',\n",
    "    'age':  21,\n",
    "    'qualification':'DAE',\n",
    "    'skills':['ML','derawing','arts'],\n",
    "     0:\"Pakistani\"\n",
    "} \n",
    "    \n",
    "data.get('name')"
   ]
  },
  {
   "cell_type": "code",
   "execution_count": 5,
   "id": "fef131d7",
   "metadata": {},
   "outputs": [],
   "source": [
    "data.get('Contacts')"
   ]
  },
  {
   "cell_type": "code",
   "execution_count": 6,
   "id": "7b793318",
   "metadata": {},
   "outputs": [
    {
     "data": {
      "text/plain": [
       "'not available '"
      ]
     },
     "execution_count": 6,
     "metadata": {},
     "output_type": "execute_result"
    }
   ],
   "source": [
    "data.get('Contacts','not available ')"
   ]
  },
  {
   "cell_type": "code",
   "execution_count": 10,
   "id": "8c0a95b2",
   "metadata": {},
   "outputs": [],
   "source": [
    "data ={\n",
    "    'name':'saif',\n",
    "    'fname':'arshad',\n",
    "    'age':  21,\n",
    "    'qualification':'DAE',\n",
    "    \n",
    "} \n",
    "    \n"
   ]
  },
  {
   "cell_type": "code",
   "execution_count": 11,
   "id": "f51b7ac6",
   "metadata": {},
   "outputs": [
    {
     "data": {
      "text/plain": [
       "dict_items([('name', 'saif'), ('fname', 'arshad'), ('age', 21), ('qualification', 'DAE')])"
      ]
     },
     "execution_count": 11,
     "metadata": {},
     "output_type": "execute_result"
    }
   ],
   "source": [
    "data.items()"
   ]
  },
  {
   "cell_type": "code",
   "execution_count": 12,
   "id": "fb908666",
   "metadata": {},
   "outputs": [
    {
     "data": {
      "text/plain": [
       "dict_keys(['name', 'fname', 'age', 'qualification'])"
      ]
     },
     "execution_count": 12,
     "metadata": {},
     "output_type": "execute_result"
    }
   ],
   "source": [
    "data.keys()"
   ]
  },
  {
   "cell_type": "code",
   "execution_count": 13,
   "id": "c10df651",
   "metadata": {},
   "outputs": [
    {
     "data": {
      "text/plain": [
       "dict_values(['saif', 'arshad', 21, 'DAE'])"
      ]
     },
     "execution_count": 13,
     "metadata": {},
     "output_type": "execute_result"
    }
   ],
   "source": [
    "data.values()"
   ]
  },
  {
   "cell_type": "code",
   "execution_count": 26,
   "id": "dc74aad1",
   "metadata": {},
   "outputs": [
    {
     "name": "stdout",
     "output_type": "stream",
     "text": [
      "saif\n",
      "arshad\n",
      "21\n",
      "DAE\n"
     ]
    }
   ],
   "source": [
    "for v in data.values():\n",
    "    print(v)"
   ]
  },
  {
   "cell_type": "code",
   "execution_count": 27,
   "id": "f54773ca",
   "metadata": {},
   "outputs": [
    {
     "name": "stdout",
     "output_type": "stream",
     "text": [
      "name\n",
      "fname\n",
      "age\n",
      "qualification\n"
     ]
    }
   ],
   "source": [
    "for k in data.keys():\n",
    "    print(k)"
   ]
  },
  {
   "cell_type": "code",
   "execution_count": 34,
   "id": "4b80185a",
   "metadata": {},
   "outputs": [
    {
     "name": "stdout",
     "output_type": "stream",
     "text": [
      "name saif\n",
      "age 21\n"
     ]
    }
   ],
   "source": [
    "for k in ['name', 'age']:\n",
    "    print(k, data[k])"
   ]
  },
  {
   "cell_type": "code",
   "execution_count": 35,
   "id": "eca3d0ce",
   "metadata": {},
   "outputs": [
    {
     "name": "stdout",
     "output_type": "stream",
     "text": [
      "('name', 'saif')\n",
      "('fname', 'arshad')\n",
      "('age', 21)\n",
      "('qualification', 'DAE')\n"
     ]
    }
   ],
   "source": [
    "for i in data.items():\n",
    "      print(i)"
   ]
  },
  {
   "cell_type": "code",
   "execution_count": 36,
   "id": "d332228f",
   "metadata": {},
   "outputs": [
    {
     "name": "stdout",
     "output_type": "stream",
     "text": [
      "200 300\n"
     ]
    }
   ],
   "source": [
    "#sequence datatype\n",
    "a,b=(200,300)\n",
    "print(a,b)"
   ]
  },
  {
   "cell_type": "code",
   "execution_count": 38,
   "id": "473f4258",
   "metadata": {},
   "outputs": [
    {
     "name": "stdout",
     "output_type": "stream",
     "text": [
      "name saif\n",
      "fname arshad\n",
      "age 21\n",
      "qualification DAE\n"
     ]
    }
   ],
   "source": [
    "for k,v in data.items():\n",
    "    print(k,v)\n",
    "    #k,v are the local variables "
   ]
  },
  {
   "cell_type": "code",
   "execution_count": 40,
   "id": "bfc1421b",
   "metadata": {},
   "outputs": [
    {
     "name": "stdout",
     "output_type": "stream",
     "text": [
      "50\n",
      "20\n"
     ]
    }
   ],
   "source": [
    "# two types of variables (globalvarfiable and local variable)\n",
    "a = 20 #global\n",
    "\n",
    "def abc():\n",
    "    a = 50#local\n",
    "    print(a)\n",
    "    \n",
    "    \n",
    "abc()\n",
    "print(a)\n"
   ]
  },
  {
   "cell_type": "code",
   "execution_count": 15,
   "id": "8091a1e4",
   "metadata": {},
   "outputs": [
    {
     "data": {
      "text/plain": [
       "[1, 2, 3, 4, 5, 6, 7, 8, 9, 10]"
      ]
     },
     "execution_count": 15,
     "metadata": {},
     "output_type": "execute_result"
    }
   ],
   "source": [
    "list(range(1,11))"
   ]
  },
  {
   "cell_type": "code",
   "execution_count": 17,
   "id": "5b9641e4",
   "metadata": {},
   "outputs": [
    {
     "name": "stdout",
     "output_type": "stream",
     "text": [
      "1\n",
      "2\n",
      "3\n",
      "4\n",
      "5\n",
      "6\n",
      "7\n",
      "8\n",
      "9\n",
      "10\n"
     ]
    }
   ],
   "source": [
    "for num in [1, 2, 3, 4, 5, 6, 7, 8, 9, 10]:\n",
    "     print(num)\n",
    "    #for loop is used for iteration"
   ]
  },
  {
   "cell_type": "code",
   "execution_count": 41,
   "id": "e176dd99",
   "metadata": {},
   "outputs": [
    {
     "name": "stdout",
     "output_type": "stream",
     "text": [
      "Pakistan\n",
      "None\n"
     ]
    }
   ],
   "source": [
    "# non-return function \n",
    "\n",
    "a=print('Pakistan')\n",
    "print(a)"
   ]
  },
  {
   "cell_type": "code",
   "execution_count": 43,
   "id": "7526404a",
   "metadata": {},
   "outputs": [
    {
     "name": "stdout",
     "output_type": "stream",
     "text": [
      "8\n"
     ]
    }
   ],
   "source": [
    "# return function\n",
    "a=len('Pakistan')\n",
    "print(a)"
   ]
  },
  {
   "cell_type": "code",
   "execution_count": 44,
   "id": "0f47644b",
   "metadata": {},
   "outputs": [
    {
     "name": "stdout",
     "output_type": "stream",
     "text": [
      "<class 'str'>\n"
     ]
    }
   ],
   "source": [
    "# return function\n",
    "a=type('Pakistan')\n",
    "print(a)"
   ]
  },
  {
   "cell_type": "code",
   "execution_count": 47,
   "id": "e369a8a9",
   "metadata": {},
   "outputs": [
    {
     "data": {
      "text/plain": [
       "{'fname': 'arshad', 'age': 21, 'qualification': 'DAE'}"
      ]
     },
     "execution_count": 47,
     "metadata": {},
     "output_type": "execute_result"
    }
   ],
   "source": [
    "data ={\n",
    "    'name':'saif',\n",
    "    'fname':'arshad',\n",
    "    'age':  21,\n",
    "    'qualification':'DAE',\n",
    "    \n",
    "} \n",
    "    \n",
    "del data['name']\n",
    "data"
   ]
  },
  {
   "cell_type": "code",
   "execution_count": 49,
   "id": "934f8731",
   "metadata": {},
   "outputs": [
    {
     "ename": "SyntaxError",
     "evalue": "invalid syntax (<ipython-input-49-3c7070ccb6a2>, line 8)",
     "output_type": "error",
     "traceback": [
      "\u001b[1;36m  File \u001b[1;32m\"<ipython-input-49-3c7070ccb6a2>\"\u001b[1;36m, line \u001b[1;32m8\u001b[0m\n\u001b[1;33m    a= del data['name']\u001b[0m\n\u001b[1;37m       ^\u001b[0m\n\u001b[1;31mSyntaxError\u001b[0m\u001b[1;31m:\u001b[0m invalid syntax\n"
     ]
    }
   ],
   "source": [
    "data ={\n",
    "    'name':'saif',\n",
    "    'fname':'arshad',\n",
    "    'age':  21,\n",
    "    'qualification':'DAE',\n",
    "    \n",
    "} \n",
    "a= del data['name']\n",
    "print(a)\n",
    "data"
   ]
  },
  {
   "cell_type": "code",
   "execution_count": 50,
   "id": "2c366466",
   "metadata": {},
   "outputs": [
    {
     "name": "stdout",
     "output_type": "stream",
     "text": [
      "saif\n"
     ]
    },
    {
     "data": {
      "text/plain": [
       "{'fname': 'arshad', 'age': 21, 'qualification': 'DAE'}"
      ]
     },
     "execution_count": 50,
     "metadata": {},
     "output_type": "execute_result"
    }
   ],
   "source": [
    "data ={\n",
    "    'name':'saif',\n",
    "    'fname':'arshad',\n",
    "    'age':  21,\n",
    "    'qualification':'DAE',\n",
    "    \n",
    "} \n",
    "a= data.pop('name')\n",
    "print(a)\n",
    "data"
   ]
  },
  {
   "cell_type": "code",
   "execution_count": 53,
   "id": "e4696526",
   "metadata": {},
   "outputs": [
    {
     "data": {
      "text/plain": [
       "'saif'"
      ]
     },
     "execution_count": 53,
     "metadata": {},
     "output_type": "execute_result"
    }
   ],
   "source": [
    "a"
   ]
  },
  {
   "cell_type": "code",
   "execution_count": 82,
   "id": "ad8b04c9",
   "metadata": {},
   "outputs": [
    {
     "name": "stdout",
     "output_type": "stream",
     "text": [
      "21\n",
      "{'fname': 'arshad', 'qualification': 'DAE'}\n",
      "['saif', 21]\n"
     ]
    }
   ],
   "source": [
    "completed_list=[]\n",
    "data ={\n",
    "    'name':'saif',\n",
    "    'fname':'arshad',\n",
    "    'age':  21,\n",
    "    'qualification':'DAE',\n",
    "    \n",
    "} \n",
    "completed_list.append(a)\n",
    "completed_list.append(b)\n",
    "a= data.pop('name')\n",
    "b=data.pop('age')\n",
    "\n",
    "print(b)\n",
    "print(data)\n",
    "print(completed_list)"
   ]
  },
  {
   "cell_type": "code",
   "execution_count": 83,
   "id": "efa5af6d",
   "metadata": {},
   "outputs": [
    {
     "data": {
      "text/plain": [
       "['__class__',\n",
       " '__contains__',\n",
       " '__delattr__',\n",
       " '__delitem__',\n",
       " '__dir__',\n",
       " '__doc__',\n",
       " '__eq__',\n",
       " '__format__',\n",
       " '__ge__',\n",
       " '__getattribute__',\n",
       " '__getitem__',\n",
       " '__gt__',\n",
       " '__hash__',\n",
       " '__init__',\n",
       " '__init_subclass__',\n",
       " '__iter__',\n",
       " '__le__',\n",
       " '__len__',\n",
       " '__lt__',\n",
       " '__ne__',\n",
       " '__new__',\n",
       " '__reduce__',\n",
       " '__reduce_ex__',\n",
       " '__repr__',\n",
       " '__reversed__',\n",
       " '__setattr__',\n",
       " '__setitem__',\n",
       " '__sizeof__',\n",
       " '__str__',\n",
       " '__subclasshook__',\n",
       " 'clear',\n",
       " 'copy',\n",
       " 'fromkeys',\n",
       " 'get',\n",
       " 'items',\n",
       " 'keys',\n",
       " 'pop',\n",
       " 'popitem',\n",
       " 'setdefault',\n",
       " 'update',\n",
       " 'values']"
      ]
     },
     "execution_count": 83,
     "metadata": {},
     "output_type": "execute_result"
    }
   ],
   "source": [
    "dir (data)"
   ]
  },
  {
   "cell_type": "code",
   "execution_count": null,
   "id": "b34aa145",
   "metadata": {},
   "outputs": [],
   "source": []
  }
 ],
 "metadata": {
  "kernelspec": {
   "display_name": "Python 3",
   "language": "python",
   "name": "python3"
  },
  "language_info": {
   "codemirror_mode": {
    "name": "ipython",
    "version": 3
   },
   "file_extension": ".py",
   "mimetype": "text/x-python",
   "name": "python",
   "nbconvert_exporter": "python",
   "pygments_lexer": "ipython3",
   "version": "3.8.8"
  }
 },
 "nbformat": 4,
 "nbformat_minor": 5
}
