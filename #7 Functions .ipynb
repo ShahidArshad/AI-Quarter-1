{
 "cells": [
  {
   "cell_type": "code",
   "execution_count": 1,
   "id": "b4268959",
   "metadata": {},
   "outputs": [],
   "source": [
    "#Functions \n",
    "\n",
    "##return ==>if store output in variable\n",
    " \n",
    "\n",
    "#non return functions ==>if not store output in variable\n",
    "\n",
    "\n",
    "## default   ==>not required any argument when called \n",
    "\n",
    "#required argument  ==> function will not work without it\n",
    "\n",
    "#optional argument  ==> if we didnot provide it function will also work some default arguments value\n",
    "\n",
    "# generator function \n",
    "#generate value one by one\n",
    "#always remember old generated value\n",
    "\n",
    "##lamda function\n",
    "#one line function\n",
    "#it has no name\n",
    "#one time use only\n",
    "\n",
    "#Recursive function ==>it call in own body\n",
    "\n"
   ]
  },
  {
   "cell_type": "markdown",
   "id": "398f0965",
   "metadata": {},
   "source": [
    "#  Pre defined Function"
   ]
  },
  {
   "cell_type": "code",
   "execution_count": 13,
   "id": "9e36ee2c",
   "metadata": {},
   "outputs": [
    {
     "name": "stdout",
     "output_type": "stream",
     "text": [
      "hello\n",
      "5\n",
      "1901834088496\n"
     ]
    }
   ],
   "source": [
    "print(\"hello\")\n",
    "print(len('hello'))\n",
    "print(id('hello'))"
   ]
  },
  {
   "cell_type": "markdown",
   "id": "559106eb",
   "metadata": {},
   "source": [
    "# Return/non Return Functions "
   ]
  },
  {
   "cell_type": "code",
   "execution_count": 14,
   "id": "fe83e1f0",
   "metadata": {},
   "outputs": [
    {
     "name": "stdout",
     "output_type": "stream",
     "text": [
      "non return function\n",
      "None\n"
     ]
    }
   ],
   "source": [
    "a= print('non return function')\n",
    "print(a)  #non return function "
   ]
  },
  {
   "cell_type": "code",
   "execution_count": 15,
   "id": "b30f5e9c",
   "metadata": {},
   "outputs": [
    {
     "name": "stdout",
     "output_type": "stream",
     "text": [
      "1901839341552\n"
     ]
    }
   ],
   "source": [
    "a=id('return function')\n",
    "print(a)  #return function "
   ]
  },
  {
   "cell_type": "code",
   "execution_count": 16,
   "id": "76ba7ce3",
   "metadata": {},
   "outputs": [
    {
     "name": "stdout",
     "output_type": "stream",
     "text": [
      "8\n"
     ]
    }
   ],
   "source": [
    "a= len(\"function\")\n",
    "print(a)            #return function"
   ]
  },
  {
   "cell_type": "markdown",
   "id": "68431e52",
   "metadata": {},
   "source": [
    "# User Defined Function\n",
    "'''\n",
    "def function_word(arg1,arg2,,,):\n",
    "      statement1\n",
    "      statement2\n",
    "      \n",
    "     function_word(arg1,arg2)\n",
    "'''"
   ]
  },
  {
   "cell_type": "code",
   "execution_count": 21,
   "id": "8f4c77d2",
   "metadata": {},
   "outputs": [
    {
     "name": "stdout",
     "output_type": "stream",
     "text": [
      "AI\n",
      "courses\n",
      "\t artificial intelligence\n",
      "\t blockchain\n"
     ]
    }
   ],
   "source": [
    "def piaic_introduction(): #function declair \n",
    "    print('AI')        #statement 1\n",
    "    print('courses')   #2\n",
    "    print('\\t artificial intelligence') #3\n",
    "    print('\\t blockchain')              #4\n",
    "piaic_introduction()"
   ]
  },
  {
   "cell_type": "code",
   "execution_count": 26,
   "id": "9b192084",
   "metadata": {},
   "outputs": [
    {
     "name": "stdout",
     "output_type": "stream",
     "text": [
      "\n",
      "    piaic \n",
      "    course offers\n",
      "         AI \n",
      "         block chain \n",
      "         cloudcomputing\n",
      "         metaverse\n",
      "    \n"
     ]
    }
   ],
   "source": [
    "def piaic_introduction(): #function declair \n",
    "    txt=\"\"\"\n",
    "    piaic \n",
    "    course offers\n",
    "         AI \n",
    "         block chain \n",
    "         cloudcomputing\n",
    "         metaverse\n",
    "    \"\"\"\n",
    "    return txt\n",
    "print(piaic_introduction()) # return function"
   ]
  },
  {
   "cell_type": "code",
   "execution_count": 28,
   "id": "1d6a059c",
   "metadata": {},
   "outputs": [
    {
     "name": "stdout",
     "output_type": "stream",
     "text": [
      "\n",
      "    piaic \n",
      "    course offers\n",
      "         AI \n",
      "         block chain \n",
      "         cloudcomputing\n",
      "         metaverse\n",
      "    \n",
      "\n",
      "    piaic \n",
      "    course offers\n",
      "         AI \n",
      "         block chain \n",
      "         cloudcomputing\n",
      "         metaverse\n",
      "    \n"
     ]
    }
   ],
   "source": [
    "print(piaic_introduction())\n",
    "print(piaic_introduction())"
   ]
  },
  {
   "cell_type": "markdown",
   "id": "ba2e7c4d",
   "metadata": {},
   "source": [
    "# Required Argument "
   ]
  },
  {
   "cell_type": "code",
   "execution_count": 2,
   "id": "4aba4c82",
   "metadata": {},
   "outputs": [
    {
     "name": "stdout",
     "output_type": "stream",
     "text": [
      "12\n",
      "12\n",
      "18\n"
     ]
    }
   ],
   "source": [
    "def addition(num1,num2):\n",
    "    return num1+num2\n",
    "\n",
    "print(addition(7,5))\n",
    "print(addition(6,6))\n",
    "print(addition(9,9))"
   ]
  },
  {
   "cell_type": "code",
   "execution_count": 3,
   "id": "625df70b",
   "metadata": {},
   "outputs": [
    {
     "ename": "TypeError",
     "evalue": "addition() missing 1 required positional argument: 'num2'",
     "output_type": "error",
     "traceback": [
      "\u001b[1;31m---------------------------------------------------------------------------\u001b[0m",
      "\u001b[1;31mTypeError\u001b[0m                                 Traceback (most recent call last)",
      "\u001b[1;32m<ipython-input-3-0a3f5f13448b>\u001b[0m in \u001b[0;36m<module>\u001b[1;34m\u001b[0m\n\u001b[1;32m----> 1\u001b[1;33m \u001b[0mprint\u001b[0m\u001b[1;33m(\u001b[0m\u001b[0maddition\u001b[0m\u001b[1;33m(\u001b[0m\u001b[1;36m7\u001b[0m\u001b[1;33m)\u001b[0m\u001b[1;33m)\u001b[0m\u001b[1;33m\u001b[0m\u001b[1;33m\u001b[0m\u001b[0m\n\u001b[0m",
      "\u001b[1;31mTypeError\u001b[0m: addition() missing 1 required positional argument: 'num2'"
     ]
    }
   ],
   "source": [
    "print(addition(7))"
   ]
  },
  {
   "cell_type": "markdown",
   "id": "6d2187c2",
   "metadata": {},
   "source": [
    "# Optional Argument"
   ]
  },
  {
   "cell_type": "code",
   "execution_count": 6,
   "id": "15a01df2",
   "metadata": {},
   "outputs": [
    {
     "name": "stdout",
     "output_type": "stream",
     "text": [
      "0\n",
      "1\n",
      "5\n"
     ]
    }
   ],
   "source": [
    "def addition(num1=0,num2=0):  #default is set as  zero\n",
    "    return num1+num2 \n",
    "\n",
    "print(addition())\n",
    "print(addition(1))\n",
    "print(addition(2,3))"
   ]
  },
  {
   "cell_type": "markdown",
   "id": "a03f7cda",
   "metadata": {},
   "source": [
    "# required and optional argument"
   ]
  },
  {
   "cell_type": "code",
   "execution_count": 35,
   "id": "fc2e8f01",
   "metadata": {
    "scrolled": true
   },
   "outputs": [
    {
     "name": "stdout",
     "output_type": "stream",
     "text": [
      "\n",
      "    boilingghulabdevirice  rice...\n",
      "    making qorma withchicken meat...\n",
      "    mixing tomato1kg...\n",
      "    rice are ready:)\n",
      "    \n",
      "\n",
      "    boilingghulabdevirice  rice...\n",
      "    making qorma withchicken meat...\n",
      "    mixing tomato1kg...\n",
      "    rice are ready:)\n",
      "    \n",
      "\n",
      "    boilingghulabdevirice  rice...\n",
      "    making qorma withchicken meat...\n",
      "    mixing tomato1kg...\n",
      "    rice are ready:)\n",
      "    \n"
     ]
    }
   ],
   "source": [
    "def make_rice(rice,chicken, tomato='1kg'):\n",
    "    txt = f\"\"\"\n",
    "    boiling{rice}  rice...\n",
    "    making qorma with{chicken} meat...\n",
    "    mixing tomato{tomato}...\n",
    "    rice are ready:)\n",
    "    \"\"\"\n",
    "    return txt\n",
    "    \n",
    "a = make_rice('ghulabdevirice','chicken')\n",
    "print(a)\n",
    "print(a)\n",
    "print(a)"
   ]
  },
  {
   "cell_type": "code",
   "execution_count": 27,
   "id": "2afd651e",
   "metadata": {},
   "outputs": [
    {
     "name": "stdout",
     "output_type": "stream",
     "text": [
      "rice\n",
      "None\n"
     ]
    }
   ],
   "source": [
    "print(print('rice'))\n"
   ]
  },
  {
   "cell_type": "code",
   "execution_count": 38,
   "id": "f4c0b6cf",
   "metadata": {},
   "outputs": [
    {
     "name": "stdout",
     "output_type": "stream",
     "text": [
      "\n",
      "    boilingbanaspati rice  rice...\n",
      "    making qorma withbeaf meat...\n",
      "    mixing tomato1kg...\n",
      "    rice are ready:)\n",
      "    \n"
     ]
    }
   ],
   "source": [
    "print(make_rice('banaspati rice','beaf','1kg'))\n"
   ]
  },
  {
   "cell_type": "markdown",
   "id": "7204bcca",
   "metadata": {},
   "source": [
    "# optional argument2 unlimited \n"
   ]
  },
  {
   "cell_type": "code",
   "execution_count": 39,
   "id": "ee8e8f5d",
   "metadata": {},
   "outputs": [
    {
     "data": {
      "text/plain": [
       "7"
      ]
     },
     "execution_count": 39,
     "metadata": {},
     "output_type": "execute_result"
    }
   ],
   "source": [
    "def sum(num1):\n",
    "    return num1\n",
    "sum(7)"
   ]
  },
  {
   "cell_type": "code",
   "execution_count": 78,
   "id": "ee19aee6",
   "metadata": {},
   "outputs": [
    {
     "name": "stdout",
     "output_type": "stream",
     "text": [
      "7 (6, 3, 2, 4, 5)\n",
      "7\n"
     ]
    }
   ],
   "source": [
    "def  cal(num1,*num):    # *before num make num a tuple\n",
    "    print(num1,num)\n",
    "    return num1\n",
    "print(cal(7,6,3,2,4,5))            # sterrcnum(*num)"
   ]
  },
  {
   "cell_type": "code",
   "execution_count": 3,
   "id": "4453fb4e",
   "metadata": {},
   "outputs": [
    {
     "name": "stdout",
     "output_type": "stream",
     "text": [
      "7 (6, 3, 2, 4, 5)\n"
     ]
    },
    {
     "data": {
      "text/plain": [
       "27"
      ]
     },
     "execution_count": 3,
     "metadata": {},
     "output_type": "execute_result"
    }
   ],
   "source": [
    "def my_sum(num1,*num):    \n",
    "    print(num1,num)\n",
    "    return num1 + sum(num)\n",
    "my_sum(7,6,3,2,4,5)      "
   ]
  },
  {
   "cell_type": "code",
   "execution_count": 4,
   "id": "29f626f9",
   "metadata": {},
   "outputs": [
    {
     "name": "stdout",
     "output_type": "stream",
     "text": [
      "7 6 (3, 2, 4, 5)\n"
     ]
    },
    {
     "data": {
      "text/plain": [
       "27"
      ]
     },
     "execution_count": 4,
     "metadata": {},
     "output_type": "execute_result"
    }
   ],
   "source": [
    "def my_sum(num1,num2,*num):    \n",
    "    print(num1,num2,num)\n",
    "    return num1 + num2 + sum(num)\n",
    "my_sum(7,6,3,2,4,5)      "
   ]
  },
  {
   "cell_type": "code",
   "execution_count": 5,
   "id": "be00fa79",
   "metadata": {},
   "outputs": [
    {
     "name": "stdout",
     "output_type": "stream",
     "text": [
      "7 6 3 (2, 4, 5)\n"
     ]
    },
    {
     "data": {
      "text/plain": [
       "27"
      ]
     },
     "execution_count": 5,
     "metadata": {},
     "output_type": "execute_result"
    }
   ],
   "source": [
    "def my_sum(num1,num2,num3,*num):    \n",
    "    print(num1,num2,num3,num)\n",
    "    return num1 + num2 + num3+sum(num)\n",
    "my_sum(7,6,3,2,4,5) "
   ]
  },
  {
   "cell_type": "code",
   "execution_count": 7,
   "id": "917b83b9",
   "metadata": {},
   "outputs": [
    {
     "name": "stdout",
     "output_type": "stream",
     "text": [
      "23\n",
      "23\n"
     ]
    }
   ],
   "source": [
    "a,b=[23,23]\n",
    "print(a)\n",
    "print(b)\n"
   ]
  },
  {
   "cell_type": "code",
   "execution_count": 8,
   "id": "89a9e8d9",
   "metadata": {},
   "outputs": [
    {
     "name": "stdout",
     "output_type": "stream",
     "text": [
      "2 7 8 9\n"
     ]
    }
   ],
   "source": [
    "l=[2,7,8,9]\n",
    "print(l[0],l[1],l[2],l[3])"
   ]
  },
  {
   "cell_type": "code",
   "execution_count": 9,
   "id": "d46fb0ec",
   "metadata": {},
   "outputs": [
    {
     "name": "stdout",
     "output_type": "stream",
     "text": [
      "2 7 8 9\n"
     ]
    }
   ],
   "source": [
    "print(*l)       #during call \n",
    "# *before iterated datatype = unzip value"
   ]
  },
  {
   "cell_type": "code",
   "execution_count": 10,
   "id": "5f8a3381",
   "metadata": {},
   "outputs": [
    {
     "name": "stdout",
     "output_type": "stream",
     "text": [
      "[2, 7, 8, 9]\n"
     ]
    }
   ],
   "source": [
    "print(l)"
   ]
  },
  {
   "cell_type": "code",
   "execution_count": 13,
   "id": "85177670",
   "metadata": {},
   "outputs": [
    {
     "name": "stdout",
     "output_type": "stream",
     "text": [
      "2 7 8 9\n",
      "2 7 8 9\n",
      "2 7 8 9\n",
      "[2, 7, 8, 9]\n"
     ]
    }
   ],
   "source": [
    "l=[2,7,8,9]\n",
    "print(l[0],l[1],l[2],l[3])\n",
    "print(*l)\n",
    "print(2,7,8,9)\n",
    "print(l)"
   ]
  },
  {
   "cell_type": "code",
   "execution_count": 35,
   "id": "1e520656",
   "metadata": {},
   "outputs": [
    {
     "data": {
      "text/plain": [
       "100"
      ]
     },
     "execution_count": 35,
     "metadata": {},
     "output_type": "execute_result"
    }
   ],
   "source": [
    "def my_new_sum(num1,num2,num3,num4):\n",
    "    return num1+num2+num3+num4\n",
    "\n",
    "l = [10,20,30,40]\n",
    "my_new_sum(*l)"
   ]
  },
  {
   "cell_type": "code",
   "execution_count": 36,
   "id": "1e6e62ed",
   "metadata": {},
   "outputs": [
    {
     "name": "stdout",
     "output_type": "stream",
     "text": [
      "10\n",
      "20\n"
     ]
    }
   ],
   "source": [
    "print(l[0])\n",
    "print(l[1])"
   ]
  },
  {
   "cell_type": "code",
   "execution_count": 40,
   "id": "32ae1b89",
   "metadata": {},
   "outputs": [
    {
     "data": {
      "text/plain": [
       "19"
      ]
     },
     "execution_count": 40,
     "metadata": {},
     "output_type": "execute_result"
    }
   ],
   "source": [
    "def my_new_sum(num1,num2,num3,num4):\n",
    "    return num1+num2+num3+num4\n",
    "\n",
    "l = [10,2,3,4]\n",
    "my_new_sum(*l)"
   ]
  },
  {
   "cell_type": "code",
   "execution_count": 41,
   "id": "05194600",
   "metadata": {},
   "outputs": [
    {
     "name": "stdout",
     "output_type": "stream",
     "text": [
      "50 10\n"
     ]
    }
   ],
   "source": [
    "print(50,l[0])"
   ]
  },
  {
   "cell_type": "code",
   "execution_count": 47,
   "id": "1a95395b",
   "metadata": {},
   "outputs": [
    {
     "name": "stdout",
     "output_type": "stream",
     "text": [
      "50 10 2 3 4\n"
     ]
    }
   ],
   "source": [
    "print(50,l[0],l[1],l[2],l[3])"
   ]
  },
  {
   "cell_type": "code",
   "execution_count": 48,
   "id": "3c68b4ac",
   "metadata": {},
   "outputs": [
    {
     "name": "stdout",
     "output_type": "stream",
     "text": [
      "50 10 [3, 4]\n"
     ]
    }
   ],
   "source": [
    "print(50,l[0],l[-2:])"
   ]
  },
  {
   "cell_type": "code",
   "execution_count": 49,
   "id": "b160417b",
   "metadata": {},
   "outputs": [
    {
     "name": "stdout",
     "output_type": "stream",
     "text": [
      "50 10 3 4\n"
     ]
    }
   ],
   "source": [
    "print(50,l[0],*l[-2:])"
   ]
  },
  {
   "cell_type": "code",
   "execution_count": 50,
   "id": "c114e906",
   "metadata": {},
   "outputs": [
    {
     "name": "stdout",
     "output_type": "stream",
     "text": [
      "50 10 [3, 4]\n",
      "50 10 3 4\n"
     ]
    }
   ],
   "source": [
    "print(50,l[0],l[-2:])\n",
    "print(50,l[0],*l[-2:])"
   ]
  },
  {
   "cell_type": "markdown",
   "id": "15465223",
   "metadata": {},
   "source": [
    "# calling function with keyword argument"
   ]
  },
  {
   "cell_type": "code",
   "execution_count": 56,
   "id": "fcb3e1e8",
   "metadata": {
    "scrolled": true
   },
   "outputs": [
    {
     "name": "stdout",
     "output_type": "stream",
     "text": [
      "\n",
      "    Student Card\n",
      "    Roll Number:{rollno}\n",
      "    Name:{name}\n",
      "    Father Name:{fname}\n",
      "    Course:{course}\n",
      "    \n"
     ]
    }
   ],
   "source": [
    "def student_card(rollno,name,fname,course):\n",
    "    card=\"\"\"\n",
    "    Student Card\n",
    "    Roll Number:{rollno}\n",
    "    Name:{name}\n",
    "    Father Name:{fname}\n",
    "    Course:{course}\n",
    "    \"\"\"\n",
    "    return card\n",
    "print(student_card('1','shahid','arshad','Ai'))"
   ]
  },
  {
   "cell_type": "code",
   "execution_count": 58,
   "id": "25f5d769",
   "metadata": {},
   "outputs": [
    {
     "name": "stdout",
     "output_type": "stream",
     "text": [
      "\n",
      "    Student Card\n",
      "    Roll Number:1\n",
      "    Name:shahid\n",
      "    Father Name:arshad\n",
      "    Course:Ai\n",
      "    \n"
     ]
    }
   ],
   "source": [
    "def student_card(rollno,name,fname,course):\n",
    "    card=f\"\"\"\n",
    "    Student Card\n",
    "    Roll Number:{rollno}\n",
    "    Name:{name}\n",
    "    Father Name:{fname}\n",
    "    Course:{course}\n",
    "    \"\"\"\n",
    "    return card\n",
    "print(student_card('1','shahid','arshad','Ai'))"
   ]
  },
  {
   "cell_type": "code",
   "execution_count": 100,
   "id": "447fef71",
   "metadata": {},
   "outputs": [
    {
     "name": "stdout",
     "output_type": "stream",
     "text": [
      "\n",
      "    Student Card\n",
      "    Roll Number:23\n",
      "    Name:shahid\n",
      "    Father Name:arshad\n",
      "    Course:ai\n",
      "    \n"
     ]
    }
   ],
   "source": [
    "d1={\n",
    "    'rollno':23,\n",
    "    'name':'shahid',\n",
    "    'fname':'arshad',\n",
    "    'course':'ai'}\n",
    "print(student_card(**d1))"
   ]
  },
  {
   "cell_type": "code",
   "execution_count": 62,
   "id": "04aa4163",
   "metadata": {},
   "outputs": [
    {
     "name": "stdout",
     "output_type": "stream",
     "text": [
      "\n",
      "    Student Card\n",
      "    Roll Number:23\n",
      "    Name:shahid\n",
      "    Father Name:arshad\n",
      "    Course:AI\n",
      "    \n"
     ]
    }
   ],
   "source": [
    "\n",
    "    def student_card(rollno,name,fname,course):\n",
    "    card=f\"\"\"\n",
    "    Student Card\n",
    "    Roll Number:{rollno}\n",
    "    Name:{name}\n",
    "     Father Name:{fname}\n",
    "   Course:{course}\n",
    "    \"\"\"\n",
    "    return card\n",
    "print(student_card(fname='arshad',name='shahid',course='AI',rollno='23'))"
   ]
  },
  {
   "cell_type": "code",
   "execution_count": 76,
   "id": "a29aec5a",
   "metadata": {},
   "outputs": [
    {
     "name": "stdout",
     "output_type": "stream",
     "text": [
      "\n",
      "    Student Card\n",
      "    Roll Number:23\n",
      "    Name:shahid\n",
      "     Father Name:arshad\n",
      "   Course:AI\n",
      "    \n"
     ]
    }
   ],
   "source": [
    "def student_card(rollno,name,fname,course):\n",
    "    card=f\"\"\"\n",
    "    Student Card\n",
    "    Roll Number:{rollno}\n",
    "    Name:{name}\n",
    "     Father Name:{fname}\n",
    "   Course:{course}\n",
    "    \"\"\"\n",
    "    return card\n",
    "print(student_card(fname='arshad',name='shahid',course='AI',rollno='23'))"
   ]
  },
  {
   "cell_type": "code",
   "execution_count": 77,
   "id": "18457428",
   "metadata": {},
   "outputs": [
    {
     "name": "stdout",
     "output_type": "stream",
     "text": [
      "\n",
      "    Student Card\n",
      "    Roll Number:1\n",
      "    Name:shahud\n",
      "     Father Name:arshad,\n",
      "   Course:ai\n",
      "    \n"
     ]
    }
   ],
   "source": [
    "l=[1,'shahud','arshad,','ai']\n",
    "print(student_card(*l))"
   ]
  },
  {
   "cell_type": "code",
   "execution_count": 79,
   "id": "6d882b7f",
   "metadata": {},
   "outputs": [
    {
     "name": "stdout",
     "output_type": "stream",
     "text": [
      "\n",
      "    Student Card\n",
      "    Roll Number:23\n",
      "    Name:shahid\n",
      "     Father Name:arshad\n",
      "   Course:AI\n",
      "    \n",
      "\n",
      "    Student Card\n",
      "    Roll Number:1\n",
      "    Name:shahud\n",
      "     Father Name:arshad,\n",
      "   Course:ai\n",
      "    \n"
     ]
    }
   ],
   "source": [
    "def student_card(rollno,name,fname,course):\n",
    "    card=f\"\"\"\n",
    "    Student Card\n",
    "    Roll Number:{rollno}\n",
    "    Name:{name}\n",
    "     Father Name:{fname}\n",
    "   Course:{course}\n",
    "    \"\"\"\n",
    "    return card\n",
    "print(student_card(fname='arshad',name='shahid',course='AI',rollno='23'))\n",
    "l=[1,'shahud','arshad,','ai']\n",
    "print(student_card(*l))      #if pass positional argument with list"
   ]
  },
  {
   "cell_type": "code",
   "execution_count": 81,
   "id": "5486f6d6",
   "metadata": {},
   "outputs": [
    {
     "name": "stdout",
     "output_type": "stream",
     "text": [
      "\n",
      "    Student Card\n",
      "    Roll Number:23\n",
      "    Name:shahid\n",
      "     Father Name:arshad\n",
      "   Course:AI\n",
      "    \n",
      "\n",
      "    Student Card\n",
      "    Roll Number:1\n",
      "    Name:shahud\n",
      "     Father Name:arshad,\n",
      "   Course:ai\n",
      "    \n"
     ]
    }
   ],
   "source": [
    "def student_card(rollno,name,fname,course):\n",
    "    card=f\"\"\"\n",
    "    Student Card\n",
    "    Roll Number:{rollno}\n",
    "    Name:{name}\n",
    "     Father Name:{fname}\n",
    "   Course:{course}\n",
    "    \"\"\"\n",
    "    return card\n",
    "print(student_card(fname='arshad',name='shahid',course='AI',rollno='23'))\n",
    "l=[1,'shahud','arshad,','ai']\n",
    "print(student_card(l[0],l[1],l[2],l[3]))"
   ]
  },
  {
   "cell_type": "code",
   "execution_count": 84,
   "id": "f974fbf3",
   "metadata": {},
   "outputs": [
    {
     "name": "stdout",
     "output_type": "stream",
     "text": [
      "\n",
      "    Student Card\n",
      "    Roll Number:1\n",
      "    Name:shahid\n",
      "    Father Name:arshad\n",
      "    Course:Ai\n",
      "    \n"
     ]
    }
   ],
   "source": [
    "def student_card(rollno,name,fname,course):\n",
    "    card=f\"\"\"\n",
    "    Student Card\n",
    "    Roll Number:{rollno}\n",
    "    Name:{name}\n",
    "    Father Name:{fname}\n",
    "    Course:{course}\n",
    "    \"\"\"\n",
    "    return card\n",
    "print(student_card('1','shahid','arshad','Ai'))"
   ]
  },
  {
   "cell_type": "code",
   "execution_count": 97,
   "id": "6bf047df",
   "metadata": {},
   "outputs": [
    {
     "name": "stdout",
     "output_type": "stream",
     "text": [
      "\n",
      "    Student Card\n",
      "    Roll Number:123\n",
      "    Name:shahid\n",
      "    Father Name:arshad\n",
      "    Course:AI\n",
      "    \n"
     ]
    }
   ],
   "source": [
    "d1 = {\"name\":\"shahid\",\n",
    "     \"fname\":\"arshad\",\n",
    "    \"rollno\":123,\n",
    "    \"course\":'AI'}\n",
    "print(student_card(**d1))  # if pass positional argument with dictionary = **dictionary\n",
    "\n"
   ]
  },
  {
   "cell_type": "code",
   "execution_count": 99,
   "id": "a99022fd",
   "metadata": {},
   "outputs": [
    {
     "name": "stdout",
     "output_type": "stream",
     "text": [
      "\n",
      "    Student Card\n",
      "    Roll Number:123\n",
      "    Name:shahid\n",
      "    Father Name:arshad\n",
      "    Course:ai\n",
      "    \n"
     ]
    }
   ],
   "source": [
    "print(student_card(name=\"shahid\",fname='arshad',rollno='123',course='ai'))"
   ]
  },
  {
   "cell_type": "markdown",
   "id": "38defbc9",
   "metadata": {},
   "source": [
    "# create keyword argument unlimited "
   ]
  },
  {
   "cell_type": "code",
   "execution_count": 103,
   "id": "3b99a88d",
   "metadata": {},
   "outputs": [
    {
     "name": "stdout",
     "output_type": "stream",
     "text": [
      "7 20 {'len': 20, 'age': 30, 'course': 'ai'}\n"
     ]
    }
   ],
   "source": [
    "def fan(num1,num2, **abc):           # **dictionary\n",
    "    print(num1,num2,abc)\n",
    "    \n",
    "fan(7,20,len=20,age=30,course='ai')"
   ]
  },
  {
   "cell_type": "code",
   "execution_count": 105,
   "id": "af9196e3",
   "metadata": {},
   "outputs": [
    {
     "name": "stdout",
     "output_type": "stream",
     "text": [
      "1 2 ('e', 'f', 'g') {'a': 'q', 'e': '3'}\n"
     ]
    }
   ],
   "source": [
    "def a(num1,num2,*l1,**d1):\n",
    "    print(num1,num2,l1,d1)\n",
    "    \n",
    "a(1,2,'e','f','g',a='q',e='3')     #julia programming language"
   ]
  },
  {
   "cell_type": "markdown",
   "id": "1fb5e0df",
   "metadata": {},
   "source": [
    "# lambda function"
   ]
  },
  {
   "cell_type": "code",
   "execution_count": 106,
   "id": "c067148e",
   "metadata": {},
   "outputs": [
    {
     "data": {
      "text/plain": [
       "14"
      ]
     },
     "execution_count": 106,
     "metadata": {},
     "output_type": "execute_result"
    }
   ],
   "source": [
    "def add(num1,num2):\n",
    "    return num1+num2\n",
    "add(2,12)"
   ]
  },
  {
   "cell_type": "code",
   "execution_count": 108,
   "id": "d9512b2f",
   "metadata": {},
   "outputs": [
    {
     "data": {
      "text/plain": [
       "14"
      ]
     },
     "execution_count": 108,
     "metadata": {},
     "output_type": "execute_result"
    }
   ],
   "source": [
    "#lambda arg1,arg2: function body\n",
    "a=lambda num1,num2:num1+num2         #lambda functioin is without name\n",
    "a(2,12)"
   ]
  },
  {
   "cell_type": "code",
   "execution_count": 13,
   "id": "dae0301d",
   "metadata": {},
   "outputs": [
    {
     "data": {
      "text/plain": [
       "2"
      ]
     },
     "execution_count": 13,
     "metadata": {},
     "output_type": "execute_result"
    }
   ],
   "source": [
    "def add(num1):\n",
    "    return num1 \n",
    "a= lambda x:x[1]\n",
    "a([1,2])"
   ]
  },
  {
   "cell_type": "code",
   "execution_count": null,
   "id": "8d40346f",
   "metadata": {},
   "outputs": [],
   "source": [
    "def add(num1):\n",
    "    return num1 \n",
    "a= lambda num1:num1\n",
    "print(a)\n",
    "print(a(2))\n",
    "a([1,2])"
   ]
  },
  {
   "cell_type": "code",
   "execution_count": 118,
   "id": "96677c56",
   "metadata": {},
   "outputs": [
    {
     "data": {
      "text/plain": [
       "[[3, 'x', 'c'], [2, 'y', 'b'], [1, 'z', 'a']]"
      ]
     },
     "execution_count": 118,
     "metadata": {},
     "output_type": "execute_result"
    }
   ],
   "source": [
    "data=[[1,'z','a'],\n",
    "     [2,'y','b'],\n",
    "     [3,'x','c']]\n",
    "\n",
    "sorted(data, key=lambda x:x[1])  #ascending based on second col"
   ]
  },
  {
   "cell_type": "code",
   "execution_count": 120,
   "id": "e2c64e1e",
   "metadata": {},
   "outputs": [
    {
     "data": {
      "text/plain": [
       "[[1, 'z', 'a'], [2, 'y', 'b'], [3, 'x', 'c']]"
      ]
     },
     "execution_count": 120,
     "metadata": {},
     "output_type": "execute_result"
    }
   ],
   "source": [
    "data=[[1,'z','a'],\n",
    "     [2,'y','b'],\n",
    "     [3,'x','c']]\n",
    "\n",
    "sorted(data, key=lambda x:x[0])  #ascending"
   ]
  },
  {
   "cell_type": "code",
   "execution_count": 121,
   "id": "f88c8de0",
   "metadata": {},
   "outputs": [
    {
     "data": {
      "text/plain": [
       "[[3, 'x', 'c'], [2, 'y', 'b'], [1, 'z', 'a']]"
      ]
     },
     "execution_count": 121,
     "metadata": {},
     "output_type": "execute_result"
    }
   ],
   "source": [
    "data=[[1,'z','a'],\n",
    "     [2,'y','b'],\n",
    "     [3,'x','c']]\n",
    "\n",
    "sorted(data, key=lambda x:x[2], reverse=True) "
   ]
  },
  {
   "cell_type": "markdown",
   "id": "bd8b5617",
   "metadata": {},
   "source": [
    "# Generator Function"
   ]
  },
  {
   "cell_type": "code",
   "execution_count": 136,
   "id": "6184bdc9",
   "metadata": {},
   "outputs": [
    {
     "data": {
      "text/plain": [
       "range(1, 11)"
      ]
     },
     "execution_count": 136,
     "metadata": {},
     "output_type": "execute_result"
    }
   ],
   "source": [
    "range(1,11)"
   ]
  },
  {
   "cell_type": "code",
   "execution_count": 130,
   "id": "ecd7f9fe",
   "metadata": {},
   "outputs": [
    {
     "data": {
      "text/plain": [
       "[1, 2, 3, 4, 5, 6, 7, 8, 9, 10]"
      ]
     },
     "execution_count": 130,
     "metadata": {},
     "output_type": "execute_result"
    }
   ],
   "source": [
    "list(range(1,11))     #list ==>iteration"
   ]
  },
  {
   "cell_type": "code",
   "execution_count": 131,
   "id": "84b1b2d2",
   "metadata": {},
   "outputs": [
    {
     "name": "stdout",
     "output_type": "stream",
     "text": [
      "1\n",
      "2\n",
      "3\n",
      "4\n",
      "5\n",
      "6\n",
      "7\n",
      "8\n",
      "9\n",
      "10\n"
     ]
    }
   ],
   "source": [
    "for i in range(1,11):\n",
    "    print(i)"
   ]
  },
  {
   "cell_type": "code",
   "execution_count": 129,
   "id": "8583209e",
   "metadata": {},
   "outputs": [
    {
     "data": {
      "text/plain": [
       "<zip at 0x28cf4765780>"
      ]
     },
     "execution_count": 129,
     "metadata": {},
     "output_type": "execute_result"
    }
   ],
   "source": [
    "l1=[1,2,3,4]\n",
    "l2=['a','g','h']\n",
    "zip(l1,l2)             #generator function do not run dirrectly ,iteration required to run generator function"
   ]
  },
  {
   "cell_type": "code",
   "execution_count": 132,
   "id": "575c9fd1",
   "metadata": {},
   "outputs": [
    {
     "data": {
      "text/plain": [
       "[(1, 'a'), (2, 'g'), (3, 'h')]"
      ]
     },
     "execution_count": 132,
     "metadata": {},
     "output_type": "execute_result"
    }
   ],
   "source": [
    "list(zip(l1,l2))"
   ]
  },
  {
   "cell_type": "code",
   "execution_count": 134,
   "id": "97c8ea59",
   "metadata": {},
   "outputs": [
    {
     "name": "stdout",
     "output_type": "stream",
     "text": [
      "(1, 'a')\n",
      "(2, 'g')\n",
      "(3, 'h')\n"
     ]
    }
   ],
   "source": [
    "for x in zip(l1,l2):\n",
    "    print(x)"
   ]
  },
  {
   "cell_type": "code",
   "execution_count": 140,
   "id": "d92f69d0",
   "metadata": {},
   "outputs": [
    {
     "name": "stdout",
     "output_type": "stream",
     "text": [
      "<generator object my_gen at 0x0000028CF45654A0>\n",
      "1\n",
      "2\n",
      "3\n"
     ]
    }
   ],
   "source": [
    "def my_gen(s,e):\n",
    "    for i in range(s,e+1):\n",
    "        yield i\n",
    "        \n",
    "abc=my_gen(1,10)\n",
    "print(abc)\n",
    "print(next(abc))\n",
    "print(next(abc))\n",
    "print(next(abc))"
   ]
  },
  {
   "cell_type": "code",
   "execution_count": 141,
   "id": "c867f45c",
   "metadata": {},
   "outputs": [
    {
     "name": "stdout",
     "output_type": "stream",
     "text": [
      "1\n",
      "2\n",
      "3\n",
      "4\n",
      "5\n",
      "6\n",
      "7\n",
      "8\n",
      "9\n",
      "10\n"
     ]
    }
   ],
   "source": [
    "for i in my_gen(1,10):\n",
    "    print(i)"
   ]
  },
  {
   "cell_type": "markdown",
   "id": "c001245b",
   "metadata": {},
   "source": [
    "# Recursive Function"
   ]
  },
  {
   "cell_type": "code",
   "execution_count": 143,
   "id": "c37593d2",
   "metadata": {},
   "outputs": [
    {
     "name": "stdout",
     "output_type": "stream",
     "text": [
      "5\n",
      "4\n",
      "3\n",
      "2\n",
      "1\n",
      "0\n"
     ]
    }
   ],
   "source": [
    "def countdown(n):\n",
    "    print(n)\n",
    "    if n==0:\n",
    "        return                                 #Terminate recursion\n",
    "    else:\n",
    "        countdown(n-1)\n",
    "countdown(5)                     "
   ]
  },
  {
   "cell_type": "code",
   "execution_count": null,
   "id": "7f4ce702",
   "metadata": {},
   "outputs": [],
   "source": []
  }
 ],
 "metadata": {
  "kernelspec": {
   "display_name": "Python 3",
   "language": "python",
   "name": "python3"
  },
  "language_info": {
   "codemirror_mode": {
    "name": "ipython",
    "version": 3
   },
   "file_extension": ".py",
   "mimetype": "text/x-python",
   "name": "python",
   "nbconvert_exporter": "python",
   "pygments_lexer": "ipython3",
   "version": "3.8.8"
  }
 },
 "nbformat": 4,
 "nbformat_minor": 5
}
