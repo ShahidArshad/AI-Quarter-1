{
 "cells": [
  {
   "cell_type": "markdown",
   "id": "9b0965e2",
   "metadata": {},
   "source": [
    "# control structure\n",
    " \n",
    " #  if \n",
    "    *else \n",
    "    *elif\n",
    "    *and or not in \n",
    "\n",
    "while \n",
    "     *break\n",
    "     *continue\n",
    "     *pass \n",
    "\n",
    "for\n",
    "\n",
    "     *break \n",
    "     *continue\n",
    "     *pass \n",
    "try\n",
    "     *except\n",
    "     *def\n",
    "     *class"
   ]
  },
  {
   "cell_type": "markdown",
   "id": "5e88ea42",
   "metadata": {},
   "source": [
    "if \n",
    "\n",
    "  if True/False:\n",
    "     true_block\n",
    "     \n",
    "     \n",
    "if else \n",
    "  \n",
    "    if True/False:\n",
    "       True_block\n",
    "    else:\n",
    "        False_block\n",
    "        \n",
    "if elif else\n",
    "\n",
    "   if True/False:\n",
    "       True_block\n",
    "   elif True/False:\n",
    " else True/False:\n",
    "       True_block"
   ]
  },
  {
   "cell_type": "markdown",
   "id": "ccd6cf6e",
   "metadata": {},
   "source": [
    "# if True/False:\n",
    "   True_block\n",
    "else:\n",
    "   False_block"
   ]
  },
  {
   "cell_type": "code",
   "execution_count": 3,
   "id": "48fedaff",
   "metadata": {},
   "outputs": [],
   "source": [
    "if False: \n",
    "    print('pakistan')"
   ]
  },
  {
   "cell_type": "code",
   "execution_count": 4,
   "id": "2e5b2eeb",
   "metadata": {},
   "outputs": [
    {
     "name": "stdout",
     "output_type": "stream",
     "text": [
      "pakistan\n"
     ]
    }
   ],
   "source": [
    "if True: \n",
    "    print('pakistan')"
   ]
  },
  {
   "cell_type": "code",
   "execution_count": 5,
   "id": "cea2b999",
   "metadata": {},
   "outputs": [
    {
     "name": "stdout",
     "output_type": "stream",
     "text": [
      "Pakistan\n"
     ]
    }
   ],
   "source": [
    "if True:\n",
    "    print('Pakistan')\n",
    "else:\n",
    "    print('USA')"
   ]
  },
  {
   "cell_type": "code",
   "execution_count": 6,
   "id": "69c40005",
   "metadata": {},
   "outputs": [
    {
     "name": "stdout",
     "output_type": "stream",
     "text": [
      "USA\n"
     ]
    }
   ],
   "source": [
    "if False:\n",
    "    print('Pakistan')\n",
    "else:\n",
    "    print('USA')"
   ]
  },
  {
   "cell_type": "code",
   "execution_count": 7,
   "id": "d2740894",
   "metadata": {},
   "outputs": [
    {
     "name": "stdout",
     "output_type": "stream",
     "text": [
      "enter user admin\n"
     ]
    },
    {
     "data": {
      "text/plain": [
       "'admin'"
      ]
     },
     "execution_count": 7,
     "metadata": {},
     "output_type": "execute_result"
    }
   ],
   "source": [
    "user=input(\"enter user \")\n",
    "user"
   ]
  },
  {
   "cell_type": "code",
   "execution_count": 15,
   "id": "a61ecf52",
   "metadata": {},
   "outputs": [
    {
     "name": "stdout",
     "output_type": "stream",
     "text": [
      "enter useradmin shahid\n",
      "valid user\n",
      "welcome\n",
      "congrulations\n"
     ]
    }
   ],
   "source": [
    "user=input('enter user')\n",
    "           \n",
    "if user=='admin shahid':\n",
    "    print('valid user')\n",
    "    print('welcome')\n",
    "    print('congrulations!')\n",
    "else:\n",
    "    print('invalid user')\n",
    "    "
   ]
  },
  {
   "cell_type": "code",
   "execution_count": 12,
   "id": "7e957296",
   "metadata": {},
   "outputs": [
    {
     "name": "stdout",
     "output_type": "stream",
     "text": [
      "enter usershahid\n",
      "invalid user\n"
     ]
    }
   ],
   "source": [
    "user=input('enter user')\n",
    "           \n",
    "if user=='admin':\n",
    "    print('valid user')\n",
    "    print('welcome')\n",
    "    print('congrulations!')\n",
    "else:\n",
    "    print('invalid user')\n",
    "    "
   ]
  },
  {
   "cell_type": "markdown",
   "id": "f5c266f1",
   "metadata": {},
   "source": [
    "if/elif/else\n",
    "  \n",
    "  if True/False:\n",
    "     True_block\n",
    "  elif True/False:\n",
    "      True_block:\n",
    "  elif True/False:\n",
    "  else:\n",
    "       False_block"
   ]
  },
  {
   "cell_type": "code",
   "execution_count": 26,
   "id": "de00870b",
   "metadata": {},
   "outputs": [
    {
     "name": "stdout",
     "output_type": "stream",
     "text": [
      "Percentage:30\n",
      "30\n",
      "Fail\n"
     ]
    }
   ],
   "source": [
    "per=int(input('Percentage:'))\n",
    "\n",
    "if per>=80:\n",
    "    grade='A+'\n",
    "elif per >=70:\n",
    "    grade='A'\n",
    "elif per>=60:\n",
    "    grade='B'\n",
    "elif per>=50:\n",
    "    grade='C'\n",
    "else :\n",
    "\n",
    "    grade='Fail'\n",
    "    \n",
    "print(per)\n",
    "print(grade)\n",
    "    "
   ]
  },
  {
   "cell_type": "code",
   "execution_count": 30,
   "id": "b3f8e80a",
   "metadata": {},
   "outputs": [
    {
     "name": "stdout",
     "output_type": "stream",
     "text": [
      "abc:123\n"
     ]
    },
    {
     "data": {
      "text/plain": [
       "'123'"
      ]
     },
     "execution_count": 30,
     "metadata": {},
     "output_type": "execute_result"
    }
   ],
   "source": [
    "input(\"abc:\")"
   ]
  },
  {
   "cell_type": "code",
   "execution_count": 31,
   "id": "a3824dfd",
   "metadata": {},
   "outputs": [
    {
     "name": "stdout",
     "output_type": "stream",
     "text": [
      "abc:123\n"
     ]
    },
    {
     "data": {
      "text/plain": [
       "123"
      ]
     },
     "execution_count": 31,
     "metadata": {},
     "output_type": "execute_result"
    }
   ],
   "source": [
    "int(input('abc:'))"
   ]
  },
  {
   "cell_type": "code",
   "execution_count": 32,
   "id": "abaed1ab",
   "metadata": {},
   "outputs": [
    {
     "name": "stdout",
     "output_type": "stream",
     "text": [
      "a,b,c,1,2,3,34,ac,pakistan\n"
     ]
    }
   ],
   "source": [
    "a='a,b,c,1,2,3,34,ac,pakistan'\n",
    "print(a)"
   ]
  },
  {
   "cell_type": "code",
   "execution_count": 33,
   "id": "8ac3e9cb",
   "metadata": {},
   "outputs": [
    {
     "data": {
      "text/plain": [
       "['a', 'b', 'c', '1', '2', '3', '34', 'ac', 'pakistan']"
      ]
     },
     "execution_count": 33,
     "metadata": {},
     "output_type": "execute_result"
    }
   ],
   "source": [
    "a.split(',')"
   ]
  },
  {
   "cell_type": "code",
   "execution_count": 34,
   "id": "def28cee",
   "metadata": {},
   "outputs": [
    {
     "name": "stdout",
     "output_type": "stream",
     "text": [
      "a,1,6,d,2,g,23,gh,45,pak\n"
     ]
    }
   ],
   "source": [
    "b='a,1,6,d,2,g,23,gh,45,pak'\n",
    "print(b)"
   ]
  },
  {
   "cell_type": "code",
   "execution_count": 41,
   "id": "1c161ec7",
   "metadata": {},
   "outputs": [
    {
     "data": {
      "text/plain": [
       "['a', '1', '6', 'd', '2', 'g', '23', 'gh', '45', 'pak']"
      ]
     },
     "execution_count": 41,
     "metadata": {},
     "output_type": "execute_result"
    }
   ],
   "source": [
    "b.split(',')"
   ]
  },
  {
   "cell_type": "code",
   "execution_count": 43,
   "id": "5b48f4f6",
   "metadata": {},
   "outputs": [
    {
     "data": {
      "text/plain": [
       "['a,1,6,d,2,g,23,gh,45,pak']"
      ]
     },
     "execution_count": 43,
     "metadata": {},
     "output_type": "execute_result"
    }
   ],
   "source": [
    "b.split()"
   ]
  },
  {
   "cell_type": "code",
   "execution_count": 51,
   "id": "18177b1c",
   "metadata": {},
   "outputs": [
    {
     "data": {
      "text/plain": [
       "['pakistan', 'is', 'located', 'in', 'south', 'asia']"
      ]
     },
     "execution_count": 51,
     "metadata": {},
     "output_type": "execute_result"
    }
   ],
   "source": [
    "'pakistan is located in south asia'.split(\" \")"
   ]
  },
  {
   "cell_type": "code",
   "execution_count": 52,
   "id": "6c3514c9",
   "metadata": {},
   "outputs": [
    {
     "data": {
      "text/plain": [
       "['pakistan is located ', ' south asia']"
      ]
     },
     "execution_count": 52,
     "metadata": {},
     "output_type": "execute_result"
    }
   ],
   "source": [
    "'pakistan is located in south asia'.split(\"in\")"
   ]
  },
  {
   "cell_type": "code",
   "execution_count": 54,
   "id": "c5c22acd",
   "metadata": {},
   "outputs": [
    {
     "name": "stdout",
     "output_type": "stream",
     "text": [
      "pakistan\n"
     ]
    }
   ],
   "source": [
    "a='pakistan'\n",
    "print(a)"
   ]
  },
  {
   "cell_type": "code",
   "execution_count": 55,
   "id": "88b91bdd",
   "metadata": {},
   "outputs": [
    {
     "data": {
      "text/plain": [
       "False"
      ]
     },
     "execution_count": 55,
     "metadata": {},
     "output_type": "execute_result"
    }
   ],
   "source": [
    "a=='USA'"
   ]
  },
  {
   "cell_type": "code",
   "execution_count": 59,
   "id": "d0b0187c",
   "metadata": {},
   "outputs": [
    {
     "data": {
      "text/plain": [
       "['SHAHID', 'ARSHAD', 'MSC', 'CHEMISTRY']"
      ]
     },
     "execution_count": 59,
     "metadata": {},
     "output_type": "execute_result"
    }
   ],
   "source": [
    "'SHAHID;ARSHAD;MSC;CHEMISTRY'.split(\";\")"
   ]
  },
  {
   "cell_type": "code",
   "execution_count": 60,
   "id": "15fda428",
   "metadata": {},
   "outputs": [
    {
     "data": {
      "text/plain": [
       "['SH', 'HID;', 'RSH', 'D;MSC;CHEMISTRY']"
      ]
     },
     "execution_count": 60,
     "metadata": {},
     "output_type": "execute_result"
    }
   ],
   "source": [
    "'SHAHID;ARSHAD;MSC;CHEMISTRY'.split(\"A\")"
   ]
  },
  {
   "cell_type": "code",
   "execution_count": null,
   "id": "a0807040",
   "metadata": {},
   "outputs": [],
   "source": [
    "import re\n",
    "with open(\"./meeting_save_chat.txt\") as f:\n",
    "    lines = f.readlines()\n",
    "    \n",
    "for row in lines:\n",
    "    roll = re.foindall(r\"\\PIAIC[0-9]{5,7},row)\n",
    "    print(roll)"
   ]
  }
 ],
 "metadata": {
  "kernelspec": {
   "display_name": "Python 3",
   "language": "python",
   "name": "python3"
  },
  "language_info": {
   "codemirror_mode": {
    "name": "ipython",
    "version": 3
   },
   "file_extension": ".py",
   "mimetype": "text/x-python",
   "name": "python",
   "nbconvert_exporter": "python",
   "pygments_lexer": "ipython3",
   "version": "3.8.8"
  }
 },
 "nbformat": 4,
 "nbformat_minor": 5
}
