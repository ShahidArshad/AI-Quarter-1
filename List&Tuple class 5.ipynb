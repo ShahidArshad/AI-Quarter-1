{
 "cells": [
  {
   "cell_type": "markdown",
   "id": "9e41d284",
   "metadata": {},
   "source": [
    "# list and tuple\n",
    "\n",
    "*list mutable\n",
    "*tuple imutable\n",
    "*methods and attributes\n",
    "list[index] extracting a single value\n",
    "list[start:end]"
   ]
  },
  {
   "cell_type": "code",
   "execution_count": 9,
   "id": "4b8182e5",
   "metadata": {},
   "outputs": [],
   "source": [
    "name=\"shahid\";"
   ]
  },
  {
   "cell_type": "code",
   "execution_count": 10,
   "id": "260ef75e",
   "metadata": {},
   "outputs": [
    {
     "data": {
      "text/plain": [
       "'s'"
      ]
     },
     "execution_count": 10,
     "metadata": {},
     "output_type": "execute_result"
    }
   ],
   "source": [
    "name[0]"
   ]
  },
  {
   "cell_type": "code",
   "execution_count": 11,
   "id": "52f6e98f",
   "metadata": {},
   "outputs": [],
   "source": [
    "# ->     0        1      2      3       4      \n",
    "name=[\"shahid\",\"hamza\",\"ali\",\"hanan\",\"ahmad\"]\n",
    "                                               # <-\n",
    "\n",
    "#list[index]\n",
    "#list[start:end]\n",
    "#[start:end:seq]"
   ]
  },
  {
   "cell_type": "code",
   "execution_count": 16,
   "id": "5c03c731",
   "metadata": {},
   "outputs": [
    {
     "data": {
      "text/plain": [
       "'hamza'"
      ]
     },
     "execution_count": 16,
     "metadata": {},
     "output_type": "execute_result"
    }
   ],
   "source": [
    "name[1]"
   ]
  },
  {
   "cell_type": "code",
   "execution_count": 18,
   "id": "58dfd21d",
   "metadata": {},
   "outputs": [
    {
     "data": {
      "text/plain": [
       "'hamza'"
      ]
     },
     "execution_count": 18,
     "metadata": {},
     "output_type": "execute_result"
    }
   ],
   "source": [
    "name[-4]"
   ]
  },
  {
   "cell_type": "code",
   "execution_count": 30,
   "id": "9041a371",
   "metadata": {},
   "outputs": [
    {
     "name": "stdout",
     "output_type": "stream",
     "text": [
      "ali\n",
      "ali\n"
     ]
    }
   ],
   "source": [
    "print(name[2])     #extract value with positive index\n",
    "print(name[-3])    #extract value with negative index"
   ]
  },
  {
   "cell_type": "code",
   "execution_count": 32,
   "id": "beb5eb97",
   "metadata": {},
   "outputs": [
    {
     "name": "stdout",
     "output_type": "stream",
     "text": [
      "before ['shahid', 'hamza', 'ali', 'hanan', 'ahmad']\n",
      "after ['Muhammad shahid', 'hamza', 'ali', 'hanan', 'ahmad']\n"
     ]
    }
   ],
   "source": [
    "name=[\"shahid\",\"hamza\",\"ali\",\"hanan\",\"ahmad\"]\n",
    "print(\"before\",name)\n",
    "name[0]=\"Muhammad shahid\"  #updated value with index number \n",
    "print(\"after\",name)"
   ]
  },
  {
   "cell_type": "markdown",
   "id": "b1bcfe06",
   "metadata": {},
   "source": [
    "# List[start:end]\n",
    "\n",
    "Slicing extract multiple value in a list\n",
    "\n",
    "extract multiple value from a list(start exclude one minus) "
   ]
  },
  {
   "cell_type": "code",
   "execution_count": 36,
   "id": "19ac6c66",
   "metadata": {},
   "outputs": [
    {
     "name": "stdout",
     "output_type": "stream",
     "text": [
      "['hamza', 'ali']\n",
      "['hamza', 'ali', 'hanan']\n"
     ]
    }
   ],
   "source": [
    "name=[\"shahid\",\"hamza\",\"ali\",\"hanan\",\"ahmad\"]\n",
    "print(name[1:3])#stat include end exclude\n",
    "print(name[1:4])"
   ]
  },
  {
   "cell_type": "markdown",
   "id": "db7262d5",
   "metadata": {},
   "source": [
    "# what we apply before slicig feature "
   ]
  },
  {
   "cell_type": "code",
   "execution_count": 1,
   "id": "4622896f",
   "metadata": {},
   "outputs": [
    {
     "name": "stdout",
     "output_type": "stream",
     "text": [
      "shahid\n",
      "hamza\n",
      "ali\n",
      "hanan\n",
      "ahmad\n"
     ]
    }
   ],
   "source": [
    "name=[\"shahid\",\"hamza\",\"ali\",\"hanan\",\"ahmad\"]\n",
    "\n",
    "\n",
    "i = 0\n",
    "while i<len(name):\n",
    "    print(name[i])\n",
    "    i += 1\n",
    "    "
   ]
  },
  {
   "cell_type": "code",
   "execution_count": 6,
   "id": "7b70253c",
   "metadata": {},
   "outputs": [
    {
     "name": "stdout",
     "output_type": "stream",
     "text": [
      "List: ['shahid', 'hamza', 'ali', 'hanan', 'ahmad']\n"
     ]
    }
   ],
   "source": [
    "\n",
    "print(\"List:\",name)"
   ]
  },
  {
   "cell_type": "code",
   "execution_count": 10,
   "id": "a273386b",
   "metadata": {},
   "outputs": [
    {
     "name": "stdout",
     "output_type": "stream",
     "text": [
      "start no:0\n",
      "end no:4\n",
      "shahid\n",
      "hamza\n",
      "ali\n",
      "hanan\n"
     ]
    }
   ],
   "source": [
    "name=[\"shahid\",\"hamza\",\"ali\",\"hanan\",\"ahmad\"]\n",
    "\n",
    "a=int(input(\"start no:\"))\n",
    "b=int(input(\"end no:\"))\n",
    "i= a\n",
    "while i<b:\n",
    "    print(name[i])\n",
    "    i += 1"
   ]
  },
  {
   "cell_type": "code",
   "execution_count": 11,
   "id": "4a657a50",
   "metadata": {},
   "outputs": [
    {
     "name": "stdout",
     "output_type": "stream",
     "text": [
      "[1, 2, 3, 4, 5, 6, 7, 8, 9, 10, 11, 12, 13, 14, 15, 16, 17, 18, 19, 20]\n"
     ]
    }
   ],
   "source": [
    "numbers=list(range(1,21))\n",
    "print(numbers)"
   ]
  },
  {
   "cell_type": "code",
   "execution_count": 17,
   "id": "4b5bf398",
   "metadata": {},
   "outputs": [
    {
     "name": "stdout",
     "output_type": "stream",
     "text": [
      "[1, 2, 3, 4, 5, 6, 7, 8, 9, 10, 11, 12, 13, 14, 15, 16, 17, 18, 19, 20]\n",
      "[8, 9, 10, 11, 12, 13, 14, 15, 16]\n"
     ]
    }
   ],
   "source": [
    "numbers=[1,2,3,4,5,6,7,8,9,10,11,12,13,14,15,16,17,18,19,20]\n",
    "print(numbers)\n",
    "print(numbers[7:16])"
   ]
  },
  {
   "cell_type": "code",
   "execution_count": 19,
   "id": "40a95be8",
   "metadata": {},
   "outputs": [
    {
     "name": "stdout",
     "output_type": "stream",
     "text": [
      "[1, 2, 3, 4, 5, 6, 7, 8, 9, 10, 11, 12, 13, 14, 15, 16, 17, 18, 19, 20]\n",
      "[9, 10, 11, 12, 13, 14, 15, 16, 17, 18, 19, 20]\n"
     ]
    }
   ],
   "source": [
    "numbers=[1,2,3,4,5,6,7,8,9,10,11,12,13,14,15,16,17,18,19,20]\n",
    "print(numbers)\n",
    "#[start:end:step]\n",
    "print(numbers[8:])"
   ]
  },
  {
   "cell_type": "code",
   "execution_count": 20,
   "id": "77374807",
   "metadata": {},
   "outputs": [
    {
     "name": "stdout",
     "output_type": "stream",
     "text": [
      "[1, 2, 3, 4, 5, 6, 7, 8, 9, 10, 11, 12, 13, 14, 15, 16, 17, 18, 19, 20]\n",
      "[1, 2, 3, 4, 5, 6, 7, 8, 9, 10, 11, 12, 13, 14, 15, 16]\n"
     ]
    }
   ],
   "source": [
    "numbers=[1,2,3,4,5,6,7,8,9,10,11,12,13,14,15,16,17,18,19,20]\n",
    "print(numbers)\n",
    "\n",
    "print(numbers[:16])"
   ]
  },
  {
   "cell_type": "code",
   "execution_count": 21,
   "id": "da39cbf7",
   "metadata": {},
   "outputs": [
    {
     "name": "stdout",
     "output_type": "stream",
     "text": [
      "[1, 2, 3, 4, 5, 6, 7, 8, 9, 10, 11, 12, 13, 14, 15, 16, 17, 18, 19, 20]\n",
      "[1, 3, 5, 7, 9, 11, 13, 15, 17, 19]\n"
     ]
    }
   ],
   "source": [
    "numbers=[1,2,3,4,5,6,7,8,9,10,11,12,13,14,15,16,17,18,19,20]\n",
    "print(numbers)\n",
    "\n",
    "print(numbers[::2])"
   ]
  },
  {
   "cell_type": "code",
   "execution_count": 22,
   "id": "fc78cfc4",
   "metadata": {},
   "outputs": [
    {
     "name": "stdout",
     "output_type": "stream",
     "text": [
      "[1, 2, 3, 4, 5, 6, 7, 8, 9, 10, 11, 12, 13, 14, 15, 16, 17, 18, 19, 20]\n",
      "[1, 4, 7, 10, 13, 16, 19]\n"
     ]
    }
   ],
   "source": [
    "numbers=[1,2,3,4,5,6,7,8,9,10,11,12,13,14,15,16,17,18,19,20]\n",
    "print(numbers)\n",
    "\n",
    "print(numbers[::3])"
   ]
  },
  {
   "cell_type": "code",
   "execution_count": 23,
   "id": "a55e7eb6",
   "metadata": {},
   "outputs": [
    {
     "name": "stdout",
     "output_type": "stream",
     "text": [
      "[1, 2, 3, 4, 5, 6, 7, 8, 9, 10, 11, 12, 13, 14, 15, 16, 17, 18, 19, 20]\n",
      "[20, 18, 16, 14, 12, 10, 8, 6, 4, 2]\n"
     ]
    }
   ],
   "source": [
    "numbers=[1,2,3,4,5,6,7,8,9,10,11,12,13,14,15,16,17,18,19,20]\n",
    "print(numbers)\n",
    "\n",
    "print(numbers[::-2])"
   ]
  },
  {
   "cell_type": "code",
   "execution_count": 30,
   "id": "c5092cd1",
   "metadata": {},
   "outputs": [
    {
     "name": "stdout",
     "output_type": "stream",
     "text": [
      "[1, 2, 3, 4, 5, 6, 7, 8, 9, 10, 11, 12, 13, 14, 15, 16, 17, 18, 19, 20]\n",
      "[1, 2, 3, 4, 5, 6, 7, 8, 9, 10, 11, 12, 13, 14, 15, 16, 17, 18, 19, 20]\n",
      "[20, 19, 18, 17, 16, 15, 14, 13, 12, 11, 10, 9, 8, 7, 6, 5, 4, 3, 2, 1]\n"
     ]
    }
   ],
   "source": [
    "numbers=[1,2,3,4,5,6,7,8,9,10,11,12,13,14,15,16,17,18,19,20]\n",
    "print(numbers)\n",
    "print(numbers[::1])\n",
    "print(numbers[::-1])"
   ]
  },
  {
   "cell_type": "code",
   "execution_count": 28,
   "id": "15a40dfb",
   "metadata": {},
   "outputs": [
    {
     "name": "stdout",
     "output_type": "stream",
     "text": [
      "[1, 2, 3, 4, 5, 6, 7, 8, 9, 10, 11, 12, 13, 14, 15, 16, 17, 18, 19, 20]\n",
      "[1, 2, 3, 4, 5, 6, 7, 8, 9, 10]\n"
     ]
    }
   ],
   "source": [
    "numbers=[1,2,3,4,5,6,7,8,9,10,11,12,13,14,15,16,17,18,19,20]\n",
    "print(numbers)\n",
    "\n",
    "print(numbers[0:10])"
   ]
  },
  {
   "cell_type": "code",
   "execution_count": 33,
   "id": "78f1ed00",
   "metadata": {},
   "outputs": [
    {
     "name": "stdout",
     "output_type": "stream",
     "text": [
      "[1, 2, 3, 4, 5, 6, 7, 8, 9, 10, 11, 12, 13, 14, 15, 16, 17, 18, 19, 20]\n",
      "[]\n",
      "[20, 19, 18, 17, 16, 15, 14, 13, 12, 11, 10, 9, 8, 7, 6, 5, 4, 3, 2, 1]\n",
      "[10, 9, 8, 7, 6, 5, 4, 3, 2, 1]\n",
      "[11, 10, 9, 8, 7, 6, 5, 4, 3, 2, 1]\n"
     ]
    }
   ],
   "source": [
    "numbers=[1,2,3,4,5,6,7,8,9,10,11,12,13,14,15,16,17,18,19,20]\n",
    "print(numbers)\n",
    "\n",
    "print(numbers[0:10:-1])\n",
    "print(numbers[::-1])\n",
    "print(numbers[-11:-21:-1])\n",
    "print(numbers[10::-1])"
   ]
  },
  {
   "cell_type": "code",
   "execution_count": 46,
   "id": "594b050a",
   "metadata": {},
   "outputs": [
    {
     "name": "stdout",
     "output_type": "stream",
     "text": [
      "[17, 16, 15]\n"
     ]
    }
   ],
   "source": [
    "numbers=[1,2,3,4,5,6,7,8,9,10,11,12,13,14,15,16,17,18,19,20]\n",
    "print(numbers[16:13:-1]) #17,16,15"
   ]
  },
  {
   "cell_type": "code",
   "execution_count": 48,
   "id": "8e32b71b",
   "metadata": {},
   "outputs": [
    {
     "name": "stdout",
     "output_type": "stream",
     "text": [
      "[18, 17, 16]\n"
     ]
    }
   ],
   "source": [
    "numbers=[1,2,3,4,5,6,7,8,9,10,11,12,13,14,15,16,17,18,19,20]\n",
    "print(numbers[17:14:-1]) "
   ]
  },
  {
   "cell_type": "code",
   "execution_count": 58,
   "id": "1f4e5059",
   "metadata": {},
   "outputs": [
    {
     "name": "stdout",
     "output_type": "stream",
     "text": [
      "[1, 2, 3, 4, 5]\n",
      "[5, 4, 3, 2, 1]\n",
      "[4, 3, 2]\n",
      "[4, 3, 2]\n"
     ]
    }
   ],
   "source": [
    "numbers=[1,2,3,4,5]\n",
    "print(numbers)\n",
    "print(numbers[::-1])  # 4,3,2\n",
    "print(numbers[3:0:-1])\n",
    "print(numbers[-2:-5:-1])"
   ]
  },
  {
   "cell_type": "markdown",
   "id": "315f706b",
   "metadata": {},
   "source": [
    "# List Methods"
   ]
  },
  {
   "cell_type": "code",
   "execution_count": 2,
   "id": "b514f745",
   "metadata": {},
   "outputs": [],
   "source": [
    "names=[\"shahid\",\"hassan\",\"hamza\",\"ahmad\",\"hanan\",\"ayan\"]\n"
   ]
  },
  {
   "cell_type": "code",
   "execution_count": 3,
   "id": "c0c12007",
   "metadata": {},
   "outputs": [
    {
     "name": "stdout",
     "output_type": "stream",
     "text": [
      "['shahid', 'hassan', 'hamza', 'ahmad', 'hanan', 'ayan']\n"
     ]
    }
   ],
   "source": [
    "print(names)"
   ]
  },
  {
   "cell_type": "code",
   "execution_count": 4,
   "id": "954cf69d",
   "metadata": {},
   "outputs": [
    {
     "name": "stdout",
     "output_type": "stream",
     "text": [
      "['shahid', 'hassan', 'hamza', 'ahmad', 'hanan', 'ayan', 'zohaib']\n"
     ]
    }
   ],
   "source": [
    "names.append(\"zohaib\")\n",
    "print(names)"
   ]
  },
  {
   "cell_type": "code",
   "execution_count": 5,
   "id": "263b8248",
   "metadata": {},
   "outputs": [
    {
     "name": "stdout",
     "output_type": "stream",
     "text": [
      "['shahid', 'hassan', 'hamza', 'ahmad', 'hanan', 'ayan', 'zohaib', 'saif']\n"
     ]
    }
   ],
   "source": [
    "names.append(\"saif\")\n",
    "print(names)"
   ]
  },
  {
   "cell_type": "code",
   "execution_count": 8,
   "id": "79af94a2",
   "metadata": {},
   "outputs": [
    {
     "name": "stdout",
     "output_type": "stream",
     "text": [
      "[1, 2, 3, 4, 5, 6, 7, 8, 9, 10, 11, 12, 13, 14, 15, 16, 17, 18, 19, 20]\n"
     ]
    }
   ],
   "source": [
    "numbers=[1,2,3,4,5,6,7,8,9,10,11,12,13,14,15,16,17,18,19,20]\n",
    "print(numbers) "
   ]
  },
  {
   "cell_type": "code",
   "execution_count": 9,
   "id": "6228014f",
   "metadata": {},
   "outputs": [
    {
     "name": "stdout",
     "output_type": "stream",
     "text": [
      "[]\n"
     ]
    }
   ],
   "source": [
    "numbers.clear()\n",
    "print(numbers)"
   ]
  },
  {
   "cell_type": "code",
   "execution_count": 77,
   "id": "c820c90a",
   "metadata": {},
   "outputs": [
    {
     "name": "stdout",
     "output_type": "stream",
     "text": [
      "['saif ali', 'hassan', 'hamza', 'ahmad', 'hanan', 'ayan', 'zohaib', 'saif']\n",
      "['saif ali', 'hassan', 'hamza', 'ahmad', 'hanan', 'ayan', 'zohaib', 'saif']\n",
      "['saif ali', 'hassan', 'hamza', 'ahmad', 'hanan', 'ayan', 'zohaib', 'saif']\n",
      "['saif ali', 'hassan', 'hamza', 'ahmad', 'hanan', 'ayan', 'zohaib', 'saif']\n",
      "['saif ali', 'hassan', 'hamza', 'ahmad', 'hanan', 'ayan', 'zohaib', 'qasim']\n"
     ]
    }
   ],
   "source": [
    "sname=names\n",
    "print(names)\n",
    "print(sname)\n",
    "names[0]=\"saif ali\"\n",
    "print(names)\n",
    "print(sname)\n",
    "names[-1]=\"qasim\"\n",
    "print(names)"
   ]
  },
  {
   "cell_type": "code",
   "execution_count": 87,
   "id": "67ddd315",
   "metadata": {},
   "outputs": [
    {
     "name": "stdout",
     "output_type": "stream",
     "text": [
      "['ABC', '2', '3', '4']\n",
      "['ABC', '2', '3', '4']\n"
     ]
    }
   ],
   "source": [
    "\n",
    "l1=['1','2','3','4']\n",
    "l1[0]=\"ABC\"\n",
    "print(l1)\n",
    "print(l1.copy())"
   ]
  },
  {
   "cell_type": "code",
   "execution_count": 88,
   "id": "878006c2",
   "metadata": {},
   "outputs": [
    {
     "data": {
      "text/plain": [
       "['saif ali', 'hassan', 'hamza', 'ahmad', 'hanan', 'ayan', 'zohaib', 'qasim']"
      ]
     },
     "execution_count": 88,
     "metadata": {},
     "output_type": "execute_result"
    }
   ],
   "source": [
    "names"
   ]
  },
  {
   "cell_type": "code",
   "execution_count": 91,
   "id": "f349b44b",
   "metadata": {},
   "outputs": [
    {
     "name": "stdout",
     "output_type": "stream",
     "text": [
      "['1', '2', '3', '4']\n",
      "['1', '2', '3', '4']\n",
      "['1', '2', '3', '4']\n",
      "['1', '2', '3', '4']\n"
     ]
    }
   ],
   "source": [
    "l1=['1','2','3','4']\n",
    "l2=l3=l4=l1.copy() #shallow copy or nick name    \n",
    "print(l1)\n",
    "print(l2)\n",
    "print(l3)\n",
    "print(l4)"
   ]
  },
  {
   "cell_type": "code",
   "execution_count": 93,
   "id": "d93af83f",
   "metadata": {},
   "outputs": [
    {
     "name": "stdout",
     "output_type": "stream",
     "text": [
      "['1', '2', '3', '4']\n",
      "['abc', '2', '3', '4']\n"
     ]
    }
   ],
   "source": [
    "l1=['1','2','3','4']\n",
    "\n",
    "l4=l1.copy() #shallow copy or nick name \n",
    "l4[0]=\"abc\"\n",
    "print(l1)\n",
    "print(l4)\n"
   ]
  },
  {
   "cell_type": "code",
   "execution_count": 4,
   "id": "4f66f26d",
   "metadata": {},
   "outputs": [
    {
     "name": "stdout",
     "output_type": "stream",
     "text": [
      "['1', '2', '3', ['4', '5', '6']]\n",
      "['4', '5', '6']\n"
     ]
    }
   ],
   "source": [
    "l1=['1','2','3']\n",
    "l2=['4','5','6']\n",
    "l1.append(l2)\n",
    "print(l1)\n",
    "print(l2)"
   ]
  },
  {
   "cell_type": "code",
   "execution_count": 5,
   "id": "3fe1fa9e",
   "metadata": {},
   "outputs": [
    {
     "name": "stdout",
     "output_type": "stream",
     "text": [
      "['1', '2', '3', '4', '5', '6']\n",
      "['4', '5', '6']\n"
     ]
    }
   ],
   "source": [
    "l1=['1','2','3']\n",
    "l2=['4','5','6']\n",
    "l1.extend(l2)\n",
    "print(l1)\n",
    "print(l2)"
   ]
  },
  {
   "cell_type": "code",
   "execution_count": 10,
   "id": "e1d1cc00",
   "metadata": {},
   "outputs": [
    {
     "name": "stdout",
     "output_type": "stream",
     "text": [
      "['shahid', 'hassan', 'hamza', 'ahmad', 'hanan', 'ayan']\n"
     ]
    }
   ],
   "source": [
    "names=[\"shahid\",\"hassan\",\"hamza\",\"ahmad\",\"hanan\",\"ayan\"]\n",
    "print(names)"
   ]
  },
  {
   "cell_type": "code",
   "execution_count": 16,
   "id": "adcb0d0f",
   "metadata": {},
   "outputs": [
    {
     "data": {
      "text/plain": [
       "1"
      ]
     },
     "execution_count": 16,
     "metadata": {},
     "output_type": "execute_result"
    }
   ],
   "source": [
    "names.index(\"hassan\")"
   ]
  },
  {
   "cell_type": "code",
   "execution_count": 17,
   "id": "cfb838b5",
   "metadata": {},
   "outputs": [
    {
     "data": {
      "text/plain": [
       "4"
      ]
     },
     "execution_count": 17,
     "metadata": {},
     "output_type": "execute_result"
    }
   ],
   "source": [
    "names.index('hanan')"
   ]
  },
  {
   "cell_type": "code",
   "execution_count": null,
   "id": "44863d31",
   "metadata": {},
   "outputs": [],
   "source": []
  }
 ],
 "metadata": {
  "kernelspec": {
   "display_name": "Python 3",
   "language": "python",
   "name": "python3"
  },
  "language_info": {
   "codemirror_mode": {
    "name": "ipython",
    "version": 3
   },
   "file_extension": ".py",
   "mimetype": "text/x-python",
   "name": "python",
   "nbconvert_exporter": "python",
   "pygments_lexer": "ipython3",
   "version": "3.8.8"
  }
 },
 "nbformat": 4,
 "nbformat_minor": 5
}
